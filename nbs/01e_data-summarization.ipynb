{
 "cells": [
  {
   "cell_type": "code",
   "execution_count": null,
   "metadata": {},
   "outputs": [],
   "source": [
    "# default_exp data.summarization"
   ]
  },
  {
   "cell_type": "code",
   "execution_count": null,
   "metadata": {},
   "outputs": [],
   "source": [
    "#hide\n",
    "%reload_ext autoreload\n",
    "%autoreload 2\n",
    "%matplotlib inline"
   ]
  },
  {
   "cell_type": "markdown",
   "metadata": {},
   "source": [
    "# data.summarization\n",
    "\n",
    "> This module contains the bits required to use the fastai DataBlock API and/or mid-level data processing pipelines to organize your data for summarization tasks using architectures like BART and T5."
   ]
  },
  {
   "cell_type": "code",
   "execution_count": null,
   "metadata": {},
   "outputs": [],
   "source": [
    "#export\n",
    "import ast\n",
    "from functools import reduce\n",
    "\n",
    "import torch\n",
    "from transformers import *\n",
    "from fastai.text.all import *\n",
    "\n",
    "from blurr.utils import *\n",
    "from blurr.data.core import *"
   ]
  },
  {
   "cell_type": "code",
   "execution_count": null,
   "metadata": {},
   "outputs": [],
   "source": [
    "#hide\n",
    "import pdb\n",
    "\n",
    "from nbdev.showdoc import *\n",
    "from fastcore.test import *"
   ]
  },
  {
   "cell_type": "code",
   "execution_count": null,
   "metadata": {},
   "outputs": [
    {
     "name": "stdout",
     "output_type": "stream",
     "text": [
      "Using GPU #1: GeForce GTX 1080 Ti\n"
     ]
    }
   ],
   "source": [
    "#cuda\n",
    "torch.cuda.set_device(1)\n",
    "print(f'Using GPU #{torch.cuda.current_device()}: {torch.cuda.get_device_name()}')"
   ]
  },
  {
   "cell_type": "markdown",
   "metadata": {},
   "source": [
    "## Summarization tokenization, batch transform, and DataBlock methods\n",
    "\n",
    "Summarization tasks attempt to generate a human-understandable and sensible representation of a larger body of text (e.g., capture the meaning of a larger document in 1-3 sentences)."
   ]
  },
  {
   "cell_type": "code",
   "execution_count": null,
   "metadata": {},
   "outputs": [
    {
     "data": {
      "text/plain": [
       "1000"
      ]
     },
     "execution_count": null,
     "metadata": {},
     "output_type": "execute_result"
    }
   ],
   "source": [
    "path = Path('./')\n",
    "cnndm_df = pd.read_csv(path/'cnndm_sample.csv'); len(cnndm_df)"
   ]
  },
  {
   "cell_type": "code",
   "execution_count": null,
   "metadata": {},
   "outputs": [
    {
     "data": {
      "text/html": [
       "<div>\n",
       "<style scoped>\n",
       "    .dataframe tbody tr th:only-of-type {\n",
       "        vertical-align: middle;\n",
       "    }\n",
       "\n",
       "    .dataframe tbody tr th {\n",
       "        vertical-align: top;\n",
       "    }\n",
       "\n",
       "    .dataframe thead th {\n",
       "        text-align: right;\n",
       "    }\n",
       "</style>\n",
       "<table border=\"1\" class=\"dataframe\">\n",
       "  <thead>\n",
       "    <tr style=\"text-align: right;\">\n",
       "      <th></th>\n",
       "      <th>article</th>\n",
       "      <th>highlights</th>\n",
       "      <th>ds_type</th>\n",
       "    </tr>\n",
       "  </thead>\n",
       "  <tbody>\n",
       "    <tr>\n",
       "      <th>0</th>\n",
       "      <td>(CNN)  -- Globalization washes like a flood over the world's cultures and economies. Floods can be destructive; however, they can also bring blessings, as the annual floods of the Nile did for ancient Egypt. The world's great universities can be crucial instruments in shaping, in a positive way, humankind's reaction to globalization and the development of humankind itself. Traditionally, universities have been defined and limited by location, creating an academic community and drawing students and scholars to that place. Eventually, some universities began to encourage students to study el...</td>\n",
       "      <td>John Sexton: Traditionally, universities have been defined and limited by location .\\nGlobal campuses form a network of thought, innovation, he writes .\\nFaculty can teach, Sexton says, students can team up in many cities at once .\\nSexton: Research, scholarship can be shared and cultural ties made in \"century of knowledge\"</td>\n",
       "      <td>train</td>\n",
       "    </tr>\n",
       "    <tr>\n",
       "      <th>1</th>\n",
       "      <td>(CNN) -- Armenian President Robert Kocharian declared a state of emergency Saturday night after a day of clashes between police and protesters, a spokeswoman for the Armenian Foreign Ministry said. Opposition supporters wave an Armenian flag during a protest rally in Yerevan, Armenia, on Saturday. The protesters claim last month's presidential election was rigged. The state of emergency will \"hopefully bring some order\" to the capital, Yerevan, said Salpi Ghazarian, assistant to the Armenian foreign minister, who spoke to CNN early Sunday. The state of emergency could last until March 20, ...</td>\n",
       "      <td>NEW: Protest moves after crackdown at Freedom Square .\\nOrder sought after protests over last month's election turn violent .\\nDemonstrators say the election was fraudulent .\\nState of emergency could last until March 20, official says .</td>\n",
       "      <td>train</td>\n",
       "    </tr>\n",
       "  </tbody>\n",
       "</table>\n",
       "</div>"
      ],
      "text/plain": [
       "                                                                                                                                                                                                                                                                                                                                                                                                                                                                                                                                                                                                                   article  \\\n",
       "0  (CNN)  -- Globalization washes like a flood over the world's cultures and economies. Floods can be destructive; however, they can also bring blessings, as the annual floods of the Nile did for ancient Egypt. The world's great universities can be crucial instruments in shaping, in a positive way, humankind's reaction to globalization and the development of humankind itself. Traditionally, universities have been defined and limited by location, creating an academic community and drawing students and scholars to that place. Eventually, some universities began to encourage students to study el...   \n",
       "1  (CNN) -- Armenian President Robert Kocharian declared a state of emergency Saturday night after a day of clashes between police and protesters, a spokeswoman for the Armenian Foreign Ministry said. Opposition supporters wave an Armenian flag during a protest rally in Yerevan, Armenia, on Saturday. The protesters claim last month's presidential election was rigged. The state of emergency will \"hopefully bring some order\" to the capital, Yerevan, said Salpi Ghazarian, assistant to the Armenian foreign minister, who spoke to CNN early Sunday. The state of emergency could last until March 20, ...   \n",
       "\n",
       "                                                                                                                                                                                                                                                                                                                              highlights  \\\n",
       "0  John Sexton: Traditionally, universities have been defined and limited by location .\\nGlobal campuses form a network of thought, innovation, he writes .\\nFaculty can teach, Sexton says, students can team up in many cities at once .\\nSexton: Research, scholarship can be shared and cultural ties made in \"century of knowledge\"   \n",
       "1                                                                                          NEW: Protest moves after crackdown at Freedom Square .\\nOrder sought after protests over last month's election turn violent .\\nDemonstrators say the election was fraudulent .\\nState of emergency could last until March 20, official says .   \n",
       "\n",
       "  ds_type  \n",
       "0   train  \n",
       "1   train  "
      ]
     },
     "execution_count": null,
     "metadata": {},
     "output_type": "execute_result"
    }
   ],
   "source": [
    "cnndm_df.head(2)"
   ]
  },
  {
   "cell_type": "code",
   "execution_count": null,
   "metadata": {},
   "outputs": [
    {
     "data": {
      "text/plain": [
       "('bart',\n",
       " transformers.tokenization_bart.BartTokenizer,\n",
       " transformers.configuration_bart.BartConfig,\n",
       " transformers.modeling_bart.BartForConditionalGeneration)"
      ]
     },
     "execution_count": null,
     "metadata": {},
     "output_type": "execute_result"
    }
   ],
   "source": [
    "pretrained_model_name = \"facebook/bart-large-cnn\"\n",
    "\n",
    "hf_arch, hf_config, hf_tokenizer, hf_model = BLURR_MODEL_HELPER.get_hf_objects(pretrained_model_name, \n",
    "                                                                               model_cls=BartForConditionalGeneration)\n",
    "\n",
    "hf_arch, type(hf_tokenizer), type(hf_config), type(hf_model)"
   ]
  },
  {
   "cell_type": "code",
   "execution_count": null,
   "metadata": {},
   "outputs": [],
   "source": [
    "#export\n",
    "class HF_SummarizationInput(list): pass"
   ]
  },
  {
   "cell_type": "markdown",
   "metadata": {},
   "source": [
    "We create a subclass of `HF_BatchTransform` for summarization tasks to add `decoder_input_ids` and `labels` to our inputs during training, which will in turn allow the huggingface model to calculate the loss for us.  See [here](https://huggingface.co/transformers/model_doc/bart.html#transformers.BartModel.forward) for more information on these additional inputs are used in summarization and conversational training tasks.  \n",
    "\n",
    "Note also that `labels` is simply target_ids shifted to the right by one since the task to is to predict the next token based on the current (and all previous) `decoder_input_ids`.\n",
    "\n",
    "And lastly, we also update our targets to just be the `input_ids` of our target sequence so that fastai's `Learner.show_results` works (again, almost all the fastai bits require returning a single tensor to work)."
   ]
  },
  {
   "cell_type": "code",
   "execution_count": null,
   "metadata": {},
   "outputs": [],
   "source": [
    "#export\n",
    "class HF_SummarizationBatchTransform(HF_BatchTransform):\n",
    "    def __init__(self, hf_arch, hf_tokenizer, **kwargs):\n",
    "        super().__init__(hf_arch, hf_tokenizer, HF_SummarizationInput, **kwargs)\n",
    "        \n",
    "    def encodes(self, samples):  \n",
    "        samples = super().encodes(samples)\n",
    "        if (len(samples[0]) == 1): return samples\n",
    "        \n",
    "        updated_samples = []\n",
    "        for s in samples:\n",
    "            s[0]['decoder_input_ids'] = s[1]['input_ids'][:-1].clone()\n",
    "            s[0]['labels'] = s[1]['input_ids'][1:].clone()\n",
    "            s[0]['labels'][s[0]['labels'] == self.hf_tokenizer.pad_token_id] = -100\n",
    "            \n",
    "            targ_ids = s[1]['input_ids']\n",
    "            \n",
    "            updated_samples.append((s[0], targ_ids))\n",
    "        \n",
    "        return updated_samples\n",
    "    \n",
    "    def decodes(self, encoded_samples):\n",
    "        if (isinstance(encoded_samples, dict)): return self.hf_input_return_type([encoded_samples['input_ids']])\n",
    "        return [encoded_samples]"
   ]
  },
  {
   "cell_type": "markdown",
   "metadata": {},
   "source": [
    "We had to override the `decodes` method above because, while both our inputs and targets are technically the same things, we update the later to consist of *only* the target input_ids so that methods like `Learner.show_results` work.  Nevertheless, because fastai remembers what they are, `HF_TokenizerTransform.decodes` will be called for both and it works on a `list` of input_ids."
   ]
  },
  {
   "cell_type": "code",
   "execution_count": null,
   "metadata": {},
   "outputs": [],
   "source": [
    "hf_batch_tfm = HF_SummarizationBatchTransform(hf_arch, hf_tokenizer)\n",
    "\n",
    "blocks = ( \n",
    "    HF_TextBlock(hf_arch, hf_tokenizer), \n",
    "    HF_TextBlock(hf_arch, hf_tokenizer, hf_batch_tfm=hf_batch_tfm, max_length=150, hf_input_idxs=[0,1])\n",
    ")\n",
    "\n",
    "dblock = DataBlock(blocks=blocks, \n",
    "                   get_x=ColReader('article'), \n",
    "                   get_y=ColReader('highlights'), \n",
    "                   splitter=RandomSplitter())"
   ]
  },
  {
   "cell_type": "code",
   "execution_count": null,
   "metadata": {},
   "outputs": [],
   "source": [
    "# dblock.summary(cnndm_df)"
   ]
  },
  {
   "cell_type": "code",
   "execution_count": null,
   "metadata": {},
   "outputs": [],
   "source": [
    "dls = dblock.dataloaders(cnndm_df, bs=4)"
   ]
  },
  {
   "cell_type": "code",
   "execution_count": null,
   "metadata": {},
   "outputs": [],
   "source": [
    "b = dls.one_batch()"
   ]
  },
  {
   "cell_type": "code",
   "execution_count": null,
   "metadata": {},
   "outputs": [
    {
     "data": {
      "text/plain": [
       "(2, torch.Size([4, 512]), torch.Size([4, 74]))"
      ]
     },
     "execution_count": null,
     "metadata": {},
     "output_type": "execute_result"
    }
   ],
   "source": [
    "len(b), b[0]['input_ids'].shape, b[1].shape"
   ]
  },
  {
   "cell_type": "code",
   "execution_count": null,
   "metadata": {},
   "outputs": [],
   "source": [
    "#export\n",
    "@typedispatch\n",
    "def show_batch(x:HF_SummarizationInput, y, samples, dataloaders=None, ctxs=None, max_n=6, **kwargs):  \n",
    "    res = L([ (s[0], s[1]) for s in samples ])          \n",
    "    display_df(pd.DataFrame(res, columns=['text', 'target'])[:max_n])\n",
    "    return ctxs"
   ]
  },
  {
   "cell_type": "code",
   "execution_count": null,
   "metadata": {},
   "outputs": [
    {
     "data": {
      "text/html": [
       "<table border=\"1\" class=\"dataframe\">\n",
       "  <thead>\n",
       "    <tr style=\"text-align: right;\">\n",
       "      <th></th>\n",
       "      <th>text</th>\n",
       "      <th>target</th>\n",
       "    </tr>\n",
       "  </thead>\n",
       "  <tbody>\n",
       "    <tr>\n",
       "      <th>0</th>\n",
       "      <td>(CNN) -- Longtime talk show host Larry King says he's joined an effort to buy the Los Angeles Dodgers. \"It would be a thrill of a lifetime to be a part owner, a partial owner, of a team I grew up rooting for as a child in Brooklyn,\" the former host of CNN's \"Larry King Live\" said Wednesday.\" \"To go to a ballpark and have an owner's box, to even have a say in a possible trade -- are you out of your mind?\" he asked rhetorically. King says he's part of group of investors interested in acquiring the franchise, despite its apparent financial troubles and unresolved contract issues with Fox Sports. Major League Baseball, which took charge of the team in April, has been embroiled in legal battles over future media rights after baseball Commissioner Bud Selig rejected a $3 billion television deal with Fox. The beleaguered club then filed for bankruptcy in June and has since drawn a number of high-profile buyers into the bidding process after team owner Frank McCourt agreed to sell. A court hearing over the Dodgers' future media rights is scheduled for December 7. King's investor group, meanwhile, is led by insurance agent Dennis Gilbert, who also works as a special assistant to Chicago White Sox Chairman Jerry Reinsdorf. \"What bigger thrill?\" asked King, a native of Brooklyn, New York, which the Dodgers once called home. The team, formerly known as the Trolley Dodgers because of the maze of trolley cars that Brooklynites once dodged in the streets, eventually shortened its name, then and moved to California, kicking off its first L.A. season in 1958, to the dismay of many New Yorkers. \"The emotional part would be that they'd have to carry me out,\" King said of his possible part-ownership stake in the team.</td>\n",
       "      <td>King says he's bidding as a part of an investor group.\\nThe former CNN talk show host is a native of Brooklyn, where the Dodgers once played.\\nThe club filed for bankruptcy in June, and owner Frank McCourt agreed to sell.</td>\n",
       "    </tr>\n",
       "    <tr>\n",
       "      <th>1</th>\n",
       "      <td>(CNN) -- Days after a 10-year-old girl was snatched from her bedroom in the middle of the night -- but found alive nearly 12 hours later and a few miles away -- Los Angeles police pleaded Saturday for the public's help tracking down those responsible. Though they have said they believe two men were involved in the kidnapping, by Saturday police had only identified one by name as a \"wanted suspect\": 30-year-old Tobias Dustin Summers. In a press conference a few hours before Summers' image and information came out, Los Angeles Police Department spokesman Andrew Smith said that police believe this was a \"stranger abduction.\" At the same time, he said, investigators are not ruling anything out -- such as whether the abductors had something to do with her family or that acquaintances of hers might have been involved. \"Until we can find these individuals that perpetrated this, we won't know if this was a random case, or whether it was targeted against this family or this child for any particular reason,\" Smith said. \"So, right now, we don't know.\" Around 1 a.m. Wednesday, the girl's mother last saw her safe in bed in their home in the Los Angeles neighborhood of Northridge. The mother heard noises at about 3:30 a.m. and checked on her daughter again, discovering that she was missing. That set off an intensive search for the girl that ended about 2:50 p.m. Wednesday, when she was found about five miles southwest of her home. \"A Good Samaritan... directed the girl to some police officers nearby, and she was... transported to a local hospital, where she received treatment,\" Cmdr. Andrew Smith, a Los Angeles Police Department spokesman, told reporters Saturday afternoon. By Saturday, the 10-year-old was back home with her parents, with police on site to provide security and protect the family's privacy. Some 20 members of the police department's robbery and homicide division are working the case, Smith said. In a first preliminary interview with investigators, the girl said she had been put in several vehicles during her 12-hour ordeal, driving to places around the San Fernando Valley. Police were able to locate at least one of those locations -- a storage facility about two miles from the girl's home -- Smith said. The LAPD spokesman did not detail what happened to the girl in that time, urging media to do the same so as not to \"further traumatize... that poor girl.\" Smith said that authorities don't have any reason</td>\n",
       "      <td>A 10-year-old girl was taken in the middle of the night from her L.A. home, police say.\\nShe was found about 12 hours later, some 5 miles from her home.\\nL.A. police release information about 1 of the 2 suspects in the case.</td>\n",
       "    </tr>\n",
       "  </tbody>\n",
       "</table>"
      ],
      "text/plain": [
       "<IPython.core.display.HTML object>"
      ]
     },
     "metadata": {},
     "output_type": "display_data"
    }
   ],
   "source": [
    "dls.show_batch(dataloaders=dls, max_n=2)"
   ]
  },
  {
   "cell_type": "markdown",
   "metadata": {},
   "source": [
    "## Tests\n",
    "\n",
    "The tests below to ensure the core DataBlock code above works for **all** pretrained summarization models available in huggingface.  These tests are excluded from the CI workflow because of how long they would take to run and the amount of data that would be required to download.\n",
    "\n",
    "**Note**: Feel free to modify the code below to test whatever pretrained summarization models you are working with ... and if any of your pretrained summarization models fail, please submit a github issue *(or a PR if you'd like to fix it yourself)*"
   ]
  },
  {
   "cell_type": "code",
   "execution_count": null,
   "metadata": {},
   "outputs": [
    {
     "data": {
      "text/plain": [
       "[transformers.modeling_bart.BartForConditionalGeneration,\n",
       " transformers.modeling_mbart.MBartForConditionalGeneration,\n",
       " transformers.modeling_pegasus.PegasusForConditionalGeneration,\n",
       " transformers.modeling_t5.T5ForConditionalGeneration]"
      ]
     },
     "execution_count": null,
     "metadata": {},
     "output_type": "execute_result"
    }
   ],
   "source": [
    "BLURR_MODEL_HELPER.get_models(task='ConditionalGeneration')"
   ]
  },
  {
   "cell_type": "code",
   "execution_count": null,
   "metadata": {},
   "outputs": [],
   "source": [
    "pretrained_model_names = [\n",
    "    ('facebook/bart-base',BartForConditionalGeneration),\n",
    "    ('sshleifer/tiny-mbart', MBartForConditionalGeneration),\n",
    "    ('google/pegasus-cnn_dailymail', PegasusForConditionalGeneration),\n",
    "    ('t5-small', T5ForConditionalGeneration)\n",
    "]"
   ]
  },
  {
   "cell_type": "code",
   "execution_count": null,
   "metadata": {},
   "outputs": [],
   "source": [
    "path = Path('./')\n",
    "cnndm_df = pd.read_csv(path/'cnndm_sample.csv')"
   ]
  },
  {
   "cell_type": "code",
   "execution_count": null,
   "metadata": {},
   "outputs": [
    {
     "name": "stdout",
     "output_type": "stream",
     "text": [
      "=== facebook/bart-base ===\n",
      "\n",
      "architecture:\tbart\n",
      "tokenizer:\tBartTokenizer\n",
      "\n",
      "*** TESTING DataLoaders ***\n",
      "\n"
     ]
    },
    {
     "data": {
      "text/html": [
       "<table border=\"1\" class=\"dataframe\">\n",
       "  <thead>\n",
       "    <tr style=\"text-align: right;\">\n",
       "      <th></th>\n",
       "      <th>text</th>\n",
       "      <th>target</th>\n",
       "    </tr>\n",
       "  </thead>\n",
       "  <tbody>\n",
       "    <tr>\n",
       "      <th>0</th>\n",
       "      <td>(EW.com) -- The MPAA has come under some flack of late for its one-size-fits-all rating system and vague-at-best explanations for those ratings. But there's a fun flip-side to the murkiness: Speculating on what those ratings and their explanations might infer about the movie in question â€” in this case, \"The Dark Knight Rises.\" The MPAA handed a PG-13 rating today to \"The Dark Knight Rises,\" for \"intense sequences of violence and action, some sensuality and language.\" The rating itself does not mean the movie is totally done -- films often screen well before the director is finished with technical elements like visual effects, sound design, and color timing. But it does provide us with a tantalizing indication for what may be in store with a wildly anticipated film that has otherwise put a high premium on plot details. Namely: Language? Sensuality? Intriguing! As a point of comparison, 2008â€²s \"The Dark Knight\" won its PG-13 for \"intense sequences of violence and some menace\"; 2005â€²s \"Batman Begins\" was a PG-13 due to \"intense action violence, disturbing</td>\n",
       "      <td>The MPAA handed a PG-13 rating today to \"The Dark Knight Rises\"\\nThe rating is for \"intense sequences of violence and action, some sensuality and language\"\\nIt does provide us with a tantalizing indication</td>\n",
       "    </tr>\n",
       "    <tr>\n",
       "      <th>1</th>\n",
       "      <td>(CNN) -- Trail Life USA, the group that was launched after the Boys Scouts voted to allow gay members, held its inaugural convention over the weekend in Nashville. More than 1,000 people attended, including former Arkansas Gov. Mike Huckabee. The group, which will officially launch in 2014, says it expects to become a \"premier\" Christian organization for boys and young men. At the weekend event, which reporters were not allowed to attend, the group unveiled its name and logo. The logo includes the words adventure, character and leadership. \"Trail Life USA will be inclusive of boys, regardless of religion, race, national origin or socioeconomic status, and accept boys who are experiencing same-sex attractions or gender confusion,\" a statement from the group says. \"However, it will not admit youth who are open or avowed about their homosexuality, and it will not admit boys who are not 'biologically male' or boys who wish to dress and act like girls.\" Boy Scout vote. In May, more than 60% of 1,400-member national council of the BSA voted to allow openly gay youths to join scouting. The change takes effect January 1. The BSA, however, will maintain its ban on gay adult leaders. The National Jewish</td>\n",
       "      <td>More than 1,000 attend group's inaugural national convention.\\nGroup's goal is to become a \"premier\" Christian organization for boys and young men.\\nIn May, the Boys Scouts of America voted to allow openly gay youths to</td>\n",
       "    </tr>\n",
       "  </tbody>\n",
       "</table>"
      ],
      "text/plain": [
       "<IPython.core.display.HTML object>"
      ]
     },
     "metadata": {},
     "output_type": "display_data"
    },
    {
     "name": "stdout",
     "output_type": "stream",
     "text": [
      "=== sshleifer/tiny-mbart ===\n",
      "\n"
     ]
    },
    {
     "data": {
      "application/vnd.jupyter.widget-view+json": {
       "model_id": "65b4ac65fa214117b19dfe0fe0006132",
       "version_major": 2,
       "version_minor": 0
      },
      "text/plain": [
       "HBox(children=(FloatProgress(value=0.0, description='Downloading', max=1081.0, style=ProgressStyle(description…"
      ]
     },
     "metadata": {},
     "output_type": "display_data"
    },
    {
     "name": "stdout",
     "output_type": "stream",
     "text": [
      "\n"
     ]
    },
    {
     "data": {
      "application/vnd.jupyter.widget-view+json": {
       "model_id": "fbeba0cff1ee46028d851de9d1beb85a",
       "version_major": 2,
       "version_minor": 0
      },
      "text/plain": [
       "HBox(children=(FloatProgress(value=0.0, description='Downloading', max=5069051.0, style=ProgressStyle(descript…"
      ]
     },
     "metadata": {},
     "output_type": "display_data"
    },
    {
     "name": "stdout",
     "output_type": "stream",
     "text": [
      "\n"
     ]
    },
    {
     "data": {
      "application/vnd.jupyter.widget-view+json": {
       "model_id": "1560c696cbcf47359bc99430690a0b89",
       "version_major": 2,
       "version_minor": 0
      },
      "text/plain": [
       "HBox(children=(FloatProgress(value=0.0, description='Downloading', max=150.0, style=ProgressStyle(description_…"
      ]
     },
     "metadata": {},
     "output_type": "display_data"
    },
    {
     "name": "stdout",
     "output_type": "stream",
     "text": [
      "\n"
     ]
    },
    {
     "data": {
      "application/vnd.jupyter.widget-view+json": {
       "model_id": "b9304a4bba7943528bd7ca252909b2dd",
       "version_major": 2,
       "version_minor": 0
      },
      "text/plain": [
       "HBox(children=(FloatProgress(value=0.0, description='Downloading', max=26.0, style=ProgressStyle(description_w…"
      ]
     },
     "metadata": {},
     "output_type": "display_data"
    },
    {
     "name": "stdout",
     "output_type": "stream",
     "text": [
      "\n"
     ]
    },
    {
     "data": {
      "application/vnd.jupyter.widget-view+json": {
       "model_id": "47d79da941b9486980ef6c568d4a5f0a",
       "version_major": 2,
       "version_minor": 0
      },
      "text/plain": [
       "HBox(children=(FloatProgress(value=0.0, description='Downloading', max=1528827.0, style=ProgressStyle(descript…"
      ]
     },
     "metadata": {},
     "output_type": "display_data"
    },
    {
     "name": "stdout",
     "output_type": "stream",
     "text": [
      "\n",
      "architecture:\tmbart\n",
      "tokenizer:\tMBartTokenizer\n",
      "\n",
      "*** TESTING DataLoaders ***\n",
      "\n"
     ]
    },
    {
     "data": {
      "text/html": [
       "<table border=\"1\" class=\"dataframe\">\n",
       "  <thead>\n",
       "    <tr style=\"text-align: right;\">\n",
       "      <th></th>\n",
       "      <th>text</th>\n",
       "      <th>target</th>\n",
       "    </tr>\n",
       "  </thead>\n",
       "  <tbody>\n",
       "    <tr>\n",
       "      <th>0</th>\n",
       "      <td>Istanbul (CNN) -- Turkey's judicial system faced an uproar this week after one of the country's highest courts upheld a decision to reduce sentences against 26 men convicted of having sex with a 13-year old girl. Public outrage stemmed from a court ruling that the 13-year old girl had willingly engaged in \"consensual\" sexual relations with the 26 men. Among the growing chorus of critics was Turkey's President Abdullah Gul. \"I take particular care not to make any direct statements on issues that are in the judicial process,\" Gul wrote in a series of statements on his Twitter account on Friday. \"[But] the decision about reducing the punishment related with what happened to a young child of ours made me deeply uncomfortable... there is still the possibility for an appeal. I am hoping for an outcome that will comfort the public conscience.\" The case in question dates back to 2002, when 26 men from the southeastern Turkish town of Mardin were accused of repeatedly having sex with a 13-year old girl identified only by the initials \"N.C.\" According to Turkish media reports, the</td>\n",
       "      <td>Sentences for 26 men convicted of having sex with a 13-year-old were reduced. The ruling said the girl had engaged in \"consensual\" sex. Turkey's president said the ruling</td>\n",
       "    </tr>\n",
       "    <tr>\n",
       "      <th>1</th>\n",
       "      <td>(CNN) -- After a severe earthquake centered in Pakistan's Kashmir province killed more than 70,000 people in 2005, teams from a nonprofit architecture group based in London, England, helped the region start to rebuild. The group, Article 25, worked with local craftspeople to develop a design that could withstand earthquakes and trained them to build the structures. That experience may provide some lessons for the rebuilding of Haiti, where Article 25 is also planning to help with reconstruction, according to Robin Cross, an architect who is the organization's director of projects. As in Haiti, at least some of the death and injury in Pakistan stemmed from local building methods. \"The important point is that it isn't generally earthquakes that kill people,\" Cross said. \"It's generally buildings that kill people. Building design is a way to solve that problem.\" In Pakistan, Article 25 worked with local craftspeople to determine the best way to build structures that could withstand quakes and then helped train people to build them. \"By the time we built 80 to 100 buildings and we pulled out, we were leaving not just buildings, but also a capacity to</td>\n",
       "      <td>Earthquake centered in Kashmir region of Pakistan killed more than 70,000 in 2005. London-based nonprofit provided architectural help to start rebuilding. Robin Cross says lightweight framing was used to build earthquake</td>\n",
       "    </tr>\n",
       "  </tbody>\n",
       "</table>"
      ],
      "text/plain": [
       "<IPython.core.display.HTML object>"
      ]
     },
     "metadata": {},
     "output_type": "display_data"
    },
    {
     "name": "stdout",
     "output_type": "stream",
     "text": [
      "=== google/pegasus-cnn_dailymail ===\n",
      "\n"
     ]
    },
    {
     "data": {
      "application/vnd.jupyter.widget-view+json": {
       "model_id": "fe70a6a22988455bb2e07517f9c11138",
       "version_major": 2,
       "version_minor": 0
      },
      "text/plain": [
       "HBox(children=(FloatProgress(value=0.0, description='Downloading', max=1101.0, style=ProgressStyle(description…"
      ]
     },
     "metadata": {},
     "output_type": "display_data"
    },
    {
     "name": "stdout",
     "output_type": "stream",
     "text": [
      "\n"
     ]
    },
    {
     "data": {
      "application/vnd.jupyter.widget-view+json": {
       "model_id": "1ee53aa22d2f4e2d9d3bc29f7fcbf98b",
       "version_major": 2,
       "version_minor": 0
      },
      "text/plain": [
       "HBox(children=(FloatProgress(value=0.0, description='Downloading', max=1912529.0, style=ProgressStyle(descript…"
      ]
     },
     "metadata": {},
     "output_type": "display_data"
    },
    {
     "name": "stdout",
     "output_type": "stream",
     "text": [
      "\n"
     ]
    },
    {
     "data": {
      "application/vnd.jupyter.widget-view+json": {
       "model_id": "c3bc7293890e416ea166775e9a3fcf52",
       "version_major": 2,
       "version_minor": 0
      },
      "text/plain": [
       "HBox(children=(FloatProgress(value=0.0, description='Downloading', max=65.0, style=ProgressStyle(description_w…"
      ]
     },
     "metadata": {},
     "output_type": "display_data"
    },
    {
     "name": "stdout",
     "output_type": "stream",
     "text": [
      "\n"
     ]
    },
    {
     "data": {
      "application/vnd.jupyter.widget-view+json": {
       "model_id": "5a405dcb56de466a85f496cdb99bf7e8",
       "version_major": 2,
       "version_minor": 0
      },
      "text/plain": [
       "HBox(children=(FloatProgress(value=0.0, description='Downloading', max=88.0, style=ProgressStyle(description_w…"
      ]
     },
     "metadata": {},
     "output_type": "display_data"
    },
    {
     "name": "stdout",
     "output_type": "stream",
     "text": [
      "\n"
     ]
    },
    {
     "data": {
      "application/vnd.jupyter.widget-view+json": {
       "model_id": "f7fb4d12e0b84d41b3fc55905f8214a3",
       "version_major": 2,
       "version_minor": 0
      },
      "text/plain": [
       "HBox(children=(FloatProgress(value=0.0, description='Downloading', max=2275327883.0, style=ProgressStyle(descr…"
      ]
     },
     "metadata": {},
     "output_type": "display_data"
    },
    {
     "name": "stdout",
     "output_type": "stream",
     "text": [
      "\n",
      "architecture:\tpegasus\n",
      "tokenizer:\tPegasusTokenizer\n",
      "\n",
      "*** TESTING DataLoaders ***\n",
      "\n"
     ]
    },
    {
     "data": {
      "text/html": [
       "<table border=\"1\" class=\"dataframe\">\n",
       "  <thead>\n",
       "    <tr style=\"text-align: right;\">\n",
       "      <th></th>\n",
       "      <th>text</th>\n",
       "      <th>target</th>\n",
       "    </tr>\n",
       "  </thead>\n",
       "  <tbody>\n",
       "    <tr>\n",
       "      <th>0</th>\n",
       "      <td>Los Angeles (CNN) -- Lindsay Lohan has one less legal problem to worry about after a prosecutor decided not to charge her in connection with an altercation while she was in a substance abuse rehab program in December. Lohan, who faces a preliminary hearing on a felony grand theft charge April 22, could also go back to jail on a probation violation charge on the same day. But the Riverside County, California, district attorney decided Tuesday not to pursue a possible assault charge against the actress for a December 12, 2010, incident with Dawn Holland, a Betty Ford Center staffer, the prosecutor's spokesman said. \"Our office has completed review of the case, and we will not file charges due to insufficient evidence,\" spokesman John Hall said. Lohan checked herself into the Betty Ford Center in Rancho Mirage, California, for substance abuse rehab on September 28, 2010, just days after she dodged jail on another probation violation. A Los Angeles County judge later ordered her to remain in the drug rehab program until January 3 for failing a drug test while on supervised probation for a 2007 drunken-driving charge. An incident three weeks after she was released from rehab led to her latest legal problems. She allegedly walked out of a Venice, California, jewelry store wearing a necklace that she had not paid for, according to police. Lohan rejected</td>\n",
       "      <td>County district attorney will not charge Lohan in Betty Ford Center incident. She was investigated for the December 12, 2010, incident with a staffer. Lohan still faces a felony theft charge in Los Angeles.</td>\n",
       "    </tr>\n",
       "    <tr>\n",
       "      <th>1</th>\n",
       "      <td>Fashion Week has begun in New York, but for space enthusiasts, the most exciting glamor shots are coming from Mars. The much-celebrated rover Curiosity has so far strutted 109 meters (358 feet) on the surface of the Red Planet, according to its odometer, and she's looking great, NASA scientists say. The 2000-pound SUV-sized rover has been on the surface of Mars for about one month, and operating as expected. \"There have been no significant anomalies or wild cards thrown in where the performance on Mars differed significantly from the Earth,\" said Michael Watkins, Curiosity mission manager at NASA's Jet Propulsion Laboratory at a news briefing Thursday. \"That's a real testament to the engineers that developed the system.\" A new photo from the rover's camera on the mast shows off the rover's arm against the spectacular Martian landscape. On the arm is the MAHLI camera, with resolution so great that it can resolve down to the grain of talcum powder, said Aileen Yingst at Thursday's NASA news briefing. Yingst is the deputy principal investigator for Curiosity's Mars Hand Lens Imager at the Planetary Science Institute, Tucson. All that separated this camera's lens from the Martian environment was a dust cover, which appears to</td>\n",
       "      <td>Scientists aren't seeing major 'wild cards' in rover performance. Dust cover on high-resolution camera appears to be intact. Sampling of Martian material may begin in about a month. Curiosity has been on Mars since August 6</td>\n",
       "    </tr>\n",
       "  </tbody>\n",
       "</table>"
      ],
      "text/plain": [
       "<IPython.core.display.HTML object>"
      ]
     },
     "metadata": {},
     "output_type": "display_data"
    },
    {
     "name": "stdout",
     "output_type": "stream",
     "text": [
      "=== t5-small ===\n",
      "\n"
     ]
    },
    {
     "data": {
      "application/vnd.jupyter.widget-view+json": {
       "model_id": "545d52eacaaf4eba8f95ce51ebf435d1",
       "version_major": 2,
       "version_minor": 0
      },
      "text/plain": [
       "HBox(children=(FloatProgress(value=0.0, description='Downloading', max=1197.0, style=ProgressStyle(description…"
      ]
     },
     "metadata": {},
     "output_type": "display_data"
    },
    {
     "name": "stdout",
     "output_type": "stream",
     "text": [
      "\n"
     ]
    },
    {
     "data": {
      "application/vnd.jupyter.widget-view+json": {
       "model_id": "012fdb2f98bb48b49b3b2f29e3b3c18e",
       "version_major": 2,
       "version_minor": 0
      },
      "text/plain": [
       "HBox(children=(FloatProgress(value=0.0, description='Downloading', max=242065649.0, style=ProgressStyle(descri…"
      ]
     },
     "metadata": {},
     "output_type": "display_data"
    },
    {
     "name": "stdout",
     "output_type": "stream",
     "text": [
      "\n",
      "architecture:\tt5\n",
      "tokenizer:\tT5Tokenizer\n",
      "\n",
      "*** TESTING DataLoaders ***\n",
      "\n"
     ]
    },
    {
     "data": {
      "text/html": [
       "<table border=\"1\" class=\"dataframe\">\n",
       "  <thead>\n",
       "    <tr style=\"text-align: right;\">\n",
       "      <th></th>\n",
       "      <th>text</th>\n",
       "      <th>target</th>\n",
       "    </tr>\n",
       "  </thead>\n",
       "  <tbody>\n",
       "    <tr>\n",
       "      <th>0</th>\n",
       "      <td>A California poultry producer announced Monday that it is working with the federal health officials after an estimated 278 illnesses were reported in 18 states. Raw chicken products from Foster Farms plants have been identified as the likely source of this outbreak of Salmonella Heidelberg. Illnesses were linked to the facility through investigations conducted by local, state, and federal officials. The outbreak is continuing and no recall has been issued. The Food Safety and Inspection Service (FSIS), an agency of the U.S. Department of Agriculture, has been unable so far to identify the specific product or production period, but raw products from the potentially affected facilities bear one of the following numbers on the packaging: P6137, P6137A, P7632 and mainly distributed to retail outlets in California, Oregon and Washington state. Food poisoning: What you need to know. The Centers for Disease Control and Prevention is partnering with state health departments to monitor the outbreak while FSIS continues its investigation, but due to the government shutdown, current information may not be available on the agencies' websites. \"While the company, FSIS and CDC continue to investigate the issue, Foster Farms has instituted a number of additional food safety practices, processes and technology</td>\n",
       "      <td>Raw chicken products from Foster Farms plants have been ID'd as the likely source. Federal inspectors have not yet isolated the specific product or production period. An estimated 278 illnesses have been reported in 18 states. Affected</td>\n",
       "    </tr>\n",
       "    <tr>\n",
       "      <th>1</th>\n",
       "      <td>(CNN) -- The massive earthquake and tsunami that hit Japan on Friday spared the island of Indonesia, a nearby developing country that was devastated in 2004 by one of the deadliest tsunamis in history. Helping after that disaster was CNN Hero Robin Lim. Lim is the founder of Indonesia's Yayasan Bumi Sehat health clinics, which provide free prenatal and birthing care to women in need. Lim recently spoke with CNN's Ebonne Ruffins about how her midwife teams respond in natural disasters, balancing critical medical needs with cultural traditions. Ebonne Ruffins: What's it like to work in Indonesia and, specifically, after the 2004 tsunami? Robin Lim: In Indonesia, there is a great need for us because many mothers want the help of professional birth attendants but can't afford them. So they come to us. It was not easy to start so grass-roots in Bali, completely reliant on donations, but we did it. And when the tsunami happened a few years later in Aceh, we were early responders. So many on the eastern coast lost everything, and it was very difficult to witness. But we had to be there</td>\n",
       "      <td>Robin Lim founded health clinics in Indonesia that offer free prenatal and birthing care. When a tsunami hit in 2004, her midwife teams had to work with limited resources. Lim: We try to have respect for everyone's</td>\n",
       "    </tr>\n",
       "  </tbody>\n",
       "</table>"
      ],
      "text/plain": [
       "<IPython.core.display.HTML object>"
      ]
     },
     "metadata": {},
     "output_type": "display_data"
    }
   ],
   "source": [
    "#slow\n",
    "#hide_output\n",
    "task = HF_TASKS_ALL.ConditionalGeneration\n",
    "bsz = 2\n",
    "\n",
    "test_results = []\n",
    "for model_name, model_cls in pretrained_model_names:\n",
    "    error=None\n",
    "    \n",
    "    print(f'=== {model_name} ===\\n')\n",
    "    \n",
    "    hf_arch, hf_config, hf_tokenizer, hf_model = BLURR_MODEL_HELPER.get_hf_objects(model_name, \n",
    "                                                                                   task=task,\n",
    "                                                                                   model_cls=model_cls)\n",
    "    \n",
    "    print(f'architecture:\\t{hf_arch}\\ntokenizer:\\t{type(hf_tokenizer).__name__}\\n')\n",
    "    \n",
    "    hf_batch_tfm = HF_SummarizationBatchTransform(hf_arch, hf_tokenizer)\n",
    "\n",
    "    blocks = ( \n",
    "        HF_TextBlock(hf_arch, hf_tokenizer, padding='max_length', max_length=256), \n",
    "        HF_TextBlock(hf_arch, hf_tokenizer, hf_batch_tfm=hf_batch_tfm, padding='max_length', max_length=50, \n",
    "                     hf_input_idxs=[0,1])\n",
    "    )\n",
    "\n",
    "    dblock = DataBlock(blocks=blocks, \n",
    "                       get_x=ColReader('article'), \n",
    "                       get_y=ColReader('highlights'), \n",
    "                       splitter=RandomSplitter())\n",
    "\n",
    "    dls = dblock.dataloaders(cnndm_df, bs=bsz) \n",
    "    b = dls.one_batch()\n",
    "    \n",
    "    try:\n",
    "        print('*** TESTING DataLoaders ***\\n')\n",
    "        test_eq(len(b), 2)\n",
    "        test_eq(len(b[0]['input_ids']), bsz)\n",
    "        test_eq(b[0]['input_ids'].shape, torch.Size([bsz, 256]))\n",
    "        test_eq(len(b[1]), bsz)\n",
    "        test_eq(b[1].shape, torch.Size([bsz,50]))\n",
    "\n",
    "        if (hasattr(hf_tokenizer, 'add_prefix_space')):\n",
    "            test_eq(dls.tfms[0].kwargs['add_prefix_space'], True)\n",
    "            \n",
    "        test_results.append((hf_arch, type(hf_tokenizer).__name__, model_name, 'PASSED', ''))\n",
    "        dls.show_batch(dataloaders=dls, max_n=2)\n",
    "        \n",
    "    except Exception as err:\n",
    "        test_results.append((hf_arch, type(hf_tokenizer).__name__, model_name, 'FAILED', err))"
   ]
  },
  {
   "cell_type": "markdown",
   "metadata": {},
   "source": [
    "## Cleanup"
   ]
  },
  {
   "cell_type": "code",
   "execution_count": null,
   "metadata": {},
   "outputs": [
    {
     "name": "stdout",
     "output_type": "stream",
     "text": [
      "Converted 00_utils.ipynb.\n",
      "Converted 01_data-core.ipynb.\n",
      "Converted 01a_data-token-classification.ipynb.\n",
      "Converted 01b_data-question-answering.ipynb.\n",
      "Converted 01e_data-summarization.ipynb.\n",
      "Converted 01z_data-language-modeling.ipynb.\n",
      "Converted 02_modeling-core.ipynb.\n",
      "Converted 02a_modeling-token-classification.ipynb.\n",
      "Converted 02b_modeling-question-answering.ipynb.\n",
      "Converted 02e_modeling-summarization.ipynb.\n",
      "Converted 02z_modeling-language-modeling.ipynb.\n",
      "Converted index.ipynb.\n"
     ]
    }
   ],
   "source": [
    "#hide\n",
    "from nbdev.export import notebook2script\n",
    "notebook2script()"
   ]
  },
  {
   "cell_type": "code",
   "execution_count": null,
   "metadata": {},
   "outputs": [],
   "source": []
  }
 ],
 "metadata": {
  "kernelspec": {
   "display_name": "Python 3",
   "language": "python",
   "name": "python3"
  }
 },
 "nbformat": 4,
 "nbformat_minor": 4
}
