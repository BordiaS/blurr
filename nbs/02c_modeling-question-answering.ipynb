{
 "cells": [
  {
   "cell_type": "code",
   "execution_count": null,
   "metadata": {},
   "outputs": [],
   "source": [
    "# default_exp modeling.question_answering"
   ]
  },
  {
   "cell_type": "code",
   "execution_count": null,
   "metadata": {},
   "outputs": [],
   "source": [
    "#hide\n",
    "%reload_ext autoreload\n",
    "%autoreload 2\n",
    "%matplotlib inline"
   ]
  },
  {
   "cell_type": "markdown",
   "metadata": {},
   "source": [
    "# modeling.question_answering\n",
    "\n",
    "> This module contains custom models, loss functions, custom splitters, etc... for question answering tasks"
   ]
  },
  {
   "cell_type": "code",
   "execution_count": null,
   "metadata": {},
   "outputs": [],
   "source": [
    "#export\n",
    "import ast\n",
    "\n",
    "import torch\n",
    "from transformers import *\n",
    "from fastai2.text.all import *\n",
    "\n",
    "from blurr.data.all import *\n",
    "from blurr.modeling.core import *"
   ]
  },
  {
   "cell_type": "code",
   "execution_count": null,
   "metadata": {},
   "outputs": [],
   "source": [
    "#hide\n",
    "import pdb\n",
    "\n",
    "from nbdev.showdoc import *\n",
    "from fastcore.test import *"
   ]
  },
  {
   "cell_type": "code",
   "execution_count": null,
   "metadata": {},
   "outputs": [
    {
     "name": "stdout",
     "output_type": "stream",
     "text": [
      "Using GPU #1: GeForce GTX 1080 Ti\n"
     ]
    }
   ],
   "source": [
    "#cuda\n",
    "torch.cuda.set_device(1)\n",
    "print(f'Using GPU #{torch.cuda.current_device()}: {torch.cuda.get_device_name()}')"
   ]
  },
  {
   "cell_type": "markdown",
   "metadata": {},
   "source": [
    "## Question Answer\n",
    "\n",
    "Given a document (context) and a question, the objective of these models is to predict the start and end token of the correct answer as it exists in the context."
   ]
  },
  {
   "cell_type": "markdown",
   "metadata": {},
   "source": [
    "Again, we'll use a subset of pre-processed SQUAD v2 for our purposes below."
   ]
  },
  {
   "cell_type": "code",
   "execution_count": null,
   "metadata": {},
   "outputs": [
    {
     "data": {
      "text/plain": [
       "1000"
      ]
     },
     "execution_count": null,
     "metadata": {},
     "output_type": "execute_result"
    }
   ],
   "source": [
    "# full\n",
    "# squad_df = pd.read_csv('./data/task-question-answering/squad_cleaned.csv'); len(squad_df)\n",
    "\n",
    "# sample\n",
    "squad_df = pd.read_csv('./squad_sample.csv'); len(squad_df)"
   ]
  },
  {
   "cell_type": "code",
   "execution_count": null,
   "metadata": {},
   "outputs": [
    {
     "data": {
      "text/html": [
       "<div>\n",
       "<style scoped>\n",
       "    .dataframe tbody tr th:only-of-type {\n",
       "        vertical-align: middle;\n",
       "    }\n",
       "\n",
       "    .dataframe tbody tr th {\n",
       "        vertical-align: top;\n",
       "    }\n",
       "\n",
       "    .dataframe thead th {\n",
       "        text-align: right;\n",
       "    }\n",
       "</style>\n",
       "<table border=\"1\" class=\"dataframe\">\n",
       "  <thead>\n",
       "    <tr style=\"text-align: right;\">\n",
       "      <th></th>\n",
       "      <th>id</th>\n",
       "      <th>title</th>\n",
       "      <th>context</th>\n",
       "      <th>question</th>\n",
       "      <th>answers</th>\n",
       "      <th>ds_type</th>\n",
       "      <th>answer_text</th>\n",
       "      <th>is_impossible</th>\n",
       "    </tr>\n",
       "  </thead>\n",
       "  <tbody>\n",
       "    <tr>\n",
       "      <th>0</th>\n",
       "      <td>56be85543aeaaa14008c9063</td>\n",
       "      <td>Beyoncé</td>\n",
       "      <td>Beyoncé Giselle Knowles-Carter (/biːˈjɒnseɪ/ bee-YON-say) (born September 4, 1981) is an American singer, songwriter, record producer and actress. Born and raised in Houston, Texas, she performed in various singing and dancing competitions as a child, and rose to fame in the late 1990s as lead singer of R&amp;B girl-group Destiny's Child. Managed by her father, Mathew Knowles, the group became one of the world's best-selling girl groups of all time. Their hiatus saw the release of Beyoncé's debut album, Dangerously in Love (2003), which established her as a solo artist worldwide, earned five G...</td>\n",
       "      <td>When did Beyonce start becoming popular?</td>\n",
       "      <td>{'text': ['in the late 1990s'], 'answer_start': [269]}</td>\n",
       "      <td>train</td>\n",
       "      <td>in the late 1990s</td>\n",
       "      <td>False</td>\n",
       "    </tr>\n",
       "    <tr>\n",
       "      <th>1</th>\n",
       "      <td>56be85543aeaaa14008c9065</td>\n",
       "      <td>Beyoncé</td>\n",
       "      <td>Beyoncé Giselle Knowles-Carter (/biːˈjɒnseɪ/ bee-YON-say) (born September 4, 1981) is an American singer, songwriter, record producer and actress. Born and raised in Houston, Texas, she performed in various singing and dancing competitions as a child, and rose to fame in the late 1990s as lead singer of R&amp;B girl-group Destiny's Child. Managed by her father, Mathew Knowles, the group became one of the world's best-selling girl groups of all time. Their hiatus saw the release of Beyoncé's debut album, Dangerously in Love (2003), which established her as a solo artist worldwide, earned five G...</td>\n",
       "      <td>What areas did Beyonce compete in when she was growing up?</td>\n",
       "      <td>{'text': ['singing and dancing'], 'answer_start': [207]}</td>\n",
       "      <td>train</td>\n",
       "      <td>singing and dancing</td>\n",
       "      <td>False</td>\n",
       "    </tr>\n",
       "  </tbody>\n",
       "</table>\n",
       "</div>"
      ],
      "text/plain": [
       "                         id    title  \\\n",
       "0  56be85543aeaaa14008c9063  Beyoncé   \n",
       "1  56be85543aeaaa14008c9065  Beyoncé   \n",
       "\n",
       "                                                                                                                                                                                                                                                                                                                                                                                                                                                                                                                                                                                                                   context  \\\n",
       "0  Beyoncé Giselle Knowles-Carter (/biːˈjɒnseɪ/ bee-YON-say) (born September 4, 1981) is an American singer, songwriter, record producer and actress. Born and raised in Houston, Texas, she performed in various singing and dancing competitions as a child, and rose to fame in the late 1990s as lead singer of R&B girl-group Destiny's Child. Managed by her father, Mathew Knowles, the group became one of the world's best-selling girl groups of all time. Their hiatus saw the release of Beyoncé's debut album, Dangerously in Love (2003), which established her as a solo artist worldwide, earned five G...   \n",
       "1  Beyoncé Giselle Knowles-Carter (/biːˈjɒnseɪ/ bee-YON-say) (born September 4, 1981) is an American singer, songwriter, record producer and actress. Born and raised in Houston, Texas, she performed in various singing and dancing competitions as a child, and rose to fame in the late 1990s as lead singer of R&B girl-group Destiny's Child. Managed by her father, Mathew Knowles, the group became one of the world's best-selling girl groups of all time. Their hiatus saw the release of Beyoncé's debut album, Dangerously in Love (2003), which established her as a solo artist worldwide, earned five G...   \n",
       "\n",
       "                                                     question  \\\n",
       "0                    When did Beyonce start becoming popular?   \n",
       "1  What areas did Beyonce compete in when she was growing up?   \n",
       "\n",
       "                                                    answers ds_type  \\\n",
       "0    {'text': ['in the late 1990s'], 'answer_start': [269]}   train   \n",
       "1  {'text': ['singing and dancing'], 'answer_start': [207]}   train   \n",
       "\n",
       "           answer_text  is_impossible  \n",
       "0    in the late 1990s          False  \n",
       "1  singing and dancing          False  "
      ]
     },
     "execution_count": null,
     "metadata": {},
     "output_type": "execute_result"
    }
   ],
   "source": [
    "squad_df.head(2)"
   ]
  },
  {
   "cell_type": "code",
   "execution_count": null,
   "metadata": {},
   "outputs": [],
   "source": [
    "pretrained_model_name = 'bert-large-uncased-whole-word-masking-finetuned-squad'\n",
    "hf_model_cls = BertForQuestionAnswering\n",
    "\n",
    "hf_arch, hf_config, hf_tokenizer, hf_model = BLURR_MODEL_HELPER.get_hf_objects(pretrained_model_name,\n",
    "                                                                               model_cls=hf_model_cls)\n",
    "\n",
    "# # here's a pre-trained roberta model for squad you can try too\n",
    "# pretrained_model_name = \"ahotrod/roberta_large_squad2\"\n",
    "# hf_arch, hf_config, hf_tokenizer, hf_model = BLURR_MODEL_HELPER.get_hf_objects(pretrained_model_name,\n",
    "#                                                                                task=HF_TASKS_AUTO.ForQuestionAnswering)\n",
    "\n",
    "# # here's a pre-trained xlm model for squad you can try too\n",
    "# pretrained_model_name = 'xlm-mlm-ende-1024'\n",
    "# hf_arch, hf_config, hf_tokenizer, hf_model = BLURR_MODEL_HELPER.get_hf_objects(pretrained_model_name,\n",
    "#                                                                                task=HF_TASKS_AUTO.ForQuestionAnswering)"
   ]
  },
  {
   "cell_type": "code",
   "execution_count": null,
   "metadata": {},
   "outputs": [],
   "source": [
    "squad_df = squad_df.apply(partial(pre_process_squad, hf_arch=hf_arch, hf_tokenizer=hf_tokenizer), axis=1)"
   ]
  },
  {
   "cell_type": "code",
   "execution_count": null,
   "metadata": {},
   "outputs": [],
   "source": [
    "max_seq_len= 128"
   ]
  },
  {
   "cell_type": "code",
   "execution_count": null,
   "metadata": {},
   "outputs": [],
   "source": [
    "squad_df = squad_df[(squad_df.tokenized_input_len < max_seq_len) & (squad_df.is_impossible == False)]"
   ]
  },
  {
   "cell_type": "code",
   "execution_count": null,
   "metadata": {},
   "outputs": [
    {
     "data": {
      "text/html": [
       "<div>\n",
       "<style scoped>\n",
       "    .dataframe tbody tr th:only-of-type {\n",
       "        vertical-align: middle;\n",
       "    }\n",
       "\n",
       "    .dataframe tbody tr th {\n",
       "        vertical-align: top;\n",
       "    }\n",
       "\n",
       "    .dataframe thead th {\n",
       "        text-align: right;\n",
       "    }\n",
       "</style>\n",
       "<table border=\"1\" class=\"dataframe\">\n",
       "  <thead>\n",
       "    <tr style=\"text-align: right;\">\n",
       "      <th></th>\n",
       "      <th>id</th>\n",
       "      <th>title</th>\n",
       "      <th>context</th>\n",
       "      <th>question</th>\n",
       "      <th>answers</th>\n",
       "      <th>ds_type</th>\n",
       "      <th>answer_text</th>\n",
       "      <th>is_impossible</th>\n",
       "      <th>tokenized_input</th>\n",
       "      <th>tokenized_input_len</th>\n",
       "      <th>tok_answer_start</th>\n",
       "      <th>tok_answer_end</th>\n",
       "    </tr>\n",
       "  </thead>\n",
       "  <tbody>\n",
       "    <tr>\n",
       "      <th>214</th>\n",
       "      <td>56be97c73aeaaa14008c912a</td>\n",
       "      <td>Beyoncé</td>\n",
       "      <td>Beyoncé announced a hiatus from her music career in January 2010, heeding her mother's advice, \"to live life, to be inspired by things again\". During the break she and her father parted ways as business partners. Beyoncé's musical break lasted nine months and saw her visit multiple European cities, the Great Wall of China, the Egyptian pyramids, Australia, English music festivals and various museums and ballet performances.</td>\n",
       "      <td>Beyonce would take a break from music in which year?</td>\n",
       "      <td>{'text': ['2010'], 'answer_start': [60]}</td>\n",
       "      <td>train</td>\n",
       "      <td>2010</td>\n",
       "      <td>False</td>\n",
       "      <td>[[CLS], beyonce, would, take, a, break, from, music, in, which, year, ?, [SEP], beyonce, announced, a, hiatus, from, her, music, career, in, january, 2010, ,, hee, ##ding, her, mother, ', s, advice, ,, \", to, live, life, ,, to, be, inspired, by, things, again, \", ., during, the, break, she, and, her, father, parted, ways, as, business, partners, ., beyonce, ', s, musical, break, lasted, nine, months, and, saw, her, visit, multiple, european, cities, ,, the, great, wall, of, china, ,, the, egyptian, pyramid, ##s, ,, australia, ,, english, music, festivals, and, various, museums, and, ballet...</td>\n",
       "      <td>99</td>\n",
       "      <td>23</td>\n",
       "      <td>24</td>\n",
       "    </tr>\n",
       "    <tr>\n",
       "      <th>215</th>\n",
       "      <td>56be97c73aeaaa14008c912b</td>\n",
       "      <td>Beyoncé</td>\n",
       "      <td>Beyoncé announced a hiatus from her music career in January 2010, heeding her mother's advice, \"to live life, to be inspired by things again\". During the break she and her father parted ways as business partners. Beyoncé's musical break lasted nine months and saw her visit multiple European cities, the Great Wall of China, the Egyptian pyramids, Australia, English music festivals and various museums and ballet performances.</td>\n",
       "      <td>Which year did Beyonce and her father part business ways?</td>\n",
       "      <td>{'text': ['2010'], 'answer_start': [60]}</td>\n",
       "      <td>train</td>\n",
       "      <td>2010</td>\n",
       "      <td>False</td>\n",
       "      <td>[[CLS], which, year, did, beyonce, and, her, father, part, business, ways, ?, [SEP], beyonce, announced, a, hiatus, from, her, music, career, in, january, 2010, ,, hee, ##ding, her, mother, ', s, advice, ,, \", to, live, life, ,, to, be, inspired, by, things, again, \", ., during, the, break, she, and, her, father, parted, ways, as, business, partners, ., beyonce, ', s, musical, break, lasted, nine, months, and, saw, her, visit, multiple, european, cities, ,, the, great, wall, of, china, ,, the, egyptian, pyramid, ##s, ,, australia, ,, english, music, festivals, and, various, museums, and, b...</td>\n",
       "      <td>99</td>\n",
       "      <td>23</td>\n",
       "      <td>24</td>\n",
       "    </tr>\n",
       "  </tbody>\n",
       "</table>\n",
       "</div>"
      ],
      "text/plain": [
       "                           id    title  \\\n",
       "214  56be97c73aeaaa14008c912a  Beyoncé   \n",
       "215  56be97c73aeaaa14008c912b  Beyoncé   \n",
       "\n",
       "                                                                                                                                                                                                                                                                                                                                                                                                                                         context  \\\n",
       "214  Beyoncé announced a hiatus from her music career in January 2010, heeding her mother's advice, \"to live life, to be inspired by things again\". During the break she and her father parted ways as business partners. Beyoncé's musical break lasted nine months and saw her visit multiple European cities, the Great Wall of China, the Egyptian pyramids, Australia, English music festivals and various museums and ballet performances.   \n",
       "215  Beyoncé announced a hiatus from her music career in January 2010, heeding her mother's advice, \"to live life, to be inspired by things again\". During the break she and her father parted ways as business partners. Beyoncé's musical break lasted nine months and saw her visit multiple European cities, the Great Wall of China, the Egyptian pyramids, Australia, English music festivals and various museums and ballet performances.   \n",
       "\n",
       "                                                      question  \\\n",
       "214       Beyonce would take a break from music in which year?   \n",
       "215  Which year did Beyonce and her father part business ways?   \n",
       "\n",
       "                                      answers ds_type answer_text  \\\n",
       "214  {'text': ['2010'], 'answer_start': [60]}   train        2010   \n",
       "215  {'text': ['2010'], 'answer_start': [60]}   train        2010   \n",
       "\n",
       "     is_impossible  \\\n",
       "214          False   \n",
       "215          False   \n",
       "\n",
       "                                                                                                                                                                                                                                                                                                                                                                                                                                                                                                                                                                                                             tokenized_input  \\\n",
       "214  [[CLS], beyonce, would, take, a, break, from, music, in, which, year, ?, [SEP], beyonce, announced, a, hiatus, from, her, music, career, in, january, 2010, ,, hee, ##ding, her, mother, ', s, advice, ,, \", to, live, life, ,, to, be, inspired, by, things, again, \", ., during, the, break, she, and, her, father, parted, ways, as, business, partners, ., beyonce, ', s, musical, break, lasted, nine, months, and, saw, her, visit, multiple, european, cities, ,, the, great, wall, of, china, ,, the, egyptian, pyramid, ##s, ,, australia, ,, english, music, festivals, and, various, museums, and, ballet...   \n",
       "215  [[CLS], which, year, did, beyonce, and, her, father, part, business, ways, ?, [SEP], beyonce, announced, a, hiatus, from, her, music, career, in, january, 2010, ,, hee, ##ding, her, mother, ', s, advice, ,, \", to, live, life, ,, to, be, inspired, by, things, again, \", ., during, the, break, she, and, her, father, parted, ways, as, business, partners, ., beyonce, ', s, musical, break, lasted, nine, months, and, saw, her, visit, multiple, european, cities, ,, the, great, wall, of, china, ,, the, egyptian, pyramid, ##s, ,, australia, ,, english, music, festivals, and, various, museums, and, b...   \n",
       "\n",
       "     tokenized_input_len  tok_answer_start  tok_answer_end  \n",
       "214                   99                23              24  \n",
       "215                   99                23              24  "
      ]
     },
     "execution_count": null,
     "metadata": {},
     "output_type": "execute_result"
    }
   ],
   "source": [
    "#hide\n",
    "squad_df.head(2)"
   ]
  },
  {
   "cell_type": "code",
   "execution_count": null,
   "metadata": {},
   "outputs": [],
   "source": [
    "vocab = list(range(max_seq_len))\n",
    "# vocab = dict(enumerate(range(max_seq_len)));"
   ]
  },
  {
   "cell_type": "code",
   "execution_count": null,
   "metadata": {},
   "outputs": [],
   "source": [
    "# account for tokenizers that pad on right or left side\n",
    "trunc_strat = 'only_second' if (hf_tokenizer.padding_side == 'right') else 'only_first'\n",
    "\n",
    "blocks = (\n",
    "    HF_TextBlock(hf_arch, hf_tokenizer, \n",
    "                 hf_batch_tfm=HF_QABatchTransform(hf_arch, hf_tokenizer), \n",
    "                 max_length=max_seq_len, truncation=trunc_strat, \n",
    "                 tok_kwargs={ 'return_special_tokens_mask': True }), \n",
    "    CategoryBlock(vocab=vocab),\n",
    "    CategoryBlock(vocab=vocab)\n",
    ")\n",
    "\n",
    "def get_x(x):\n",
    "    return (x.question, x.context) if (hf_tokenizer.padding_side == 'right') else (x.context, x.question)\n",
    "\n",
    "dblock = DataBlock(blocks=blocks, \n",
    "                   get_x=get_x,\n",
    "                   get_y=[ColReader('tok_answer_start'), ColReader('tok_answer_end')],\n",
    "                   splitter=RandomSplitter(),\n",
    "                   n_inp=1)"
   ]
  },
  {
   "cell_type": "code",
   "execution_count": null,
   "metadata": {},
   "outputs": [],
   "source": [
    "dls = dblock.dataloaders(squad_df, bs=4)"
   ]
  },
  {
   "cell_type": "code",
   "execution_count": null,
   "metadata": {},
   "outputs": [
    {
     "data": {
      "text/plain": [
       "(2, (#128) [0,1,2,3,4,5,6,7,8,9...], (#128) [0,1,2,3,4,5,6,7,8,9...])"
      ]
     },
     "execution_count": null,
     "metadata": {},
     "output_type": "execute_result"
    }
   ],
   "source": [
    "len(dls.vocab), dls.vocab[0], dls.vocab[1]"
   ]
  },
  {
   "cell_type": "code",
   "execution_count": null,
   "metadata": {},
   "outputs": [
    {
     "data": {
      "text/html": [
       "<table border=\"1\" class=\"dataframe\">\n",
       "  <thead>\n",
       "    <tr style=\"text-align: right;\">\n",
       "      <th></th>\n",
       "      <th>text</th>\n",
       "      <th>start/end</th>\n",
       "      <th>answer</th>\n",
       "    </tr>\n",
       "  </thead>\n",
       "  <tbody>\n",
       "    <tr>\n",
       "      <th>0</th>\n",
       "      <td>what was frederic prone to during early childhood as a result of his slight build? in october 1810, six months after fryderyk's birth, the family moved to warsaw, where his father acquired a post teaching french at the warsaw lyceum, then housed in the saxon palace. fryderyk lived with his family in the palace grounds. the father played the flute and violin ; the mother played the piano and gave lessons to boys in the boarding house that the chopins kept. chopin was of slight build, and even in early childhood was prone to illnesses.</td>\n",
       "      <td>(114, 115)</td>\n",
       "      <td>illnesses</td>\n",
       "    </tr>\n",
       "    <tr>\n",
       "      <th>1</th>\n",
       "      <td>what is the latest term used to describe beyonce fans? the bey hive is the name given to beyonce's fan base. fans were previously titled \" the beyontourage \", ( a portmanteau of beyonce and entourage ). the name bey hive derives from the word beehive, purposely misspelled to resemble her first name, and was penned by fans after petitions on the online social networking service twitter and online news reports during competitions.</td>\n",
       "      <td>(14, 16)</td>\n",
       "      <td>bey hive</td>\n",
       "    </tr>\n",
       "  </tbody>\n",
       "</table>"
      ],
      "text/plain": [
       "<IPython.core.display.HTML object>"
      ]
     },
     "metadata": {},
     "output_type": "display_data"
    }
   ],
   "source": [
    "dls.show_batch(dataloaders=dls, max_n=2)"
   ]
  },
  {
   "cell_type": "markdown",
   "metadata": {},
   "source": [
    "### Training\n",
    "\n",
    "Here we create a question/answer specific subclass of `HF_BaseModelCallback` in order to get all the start and end prediction.  We also add here a new loss function that can handle multiple targets"
   ]
  },
  {
   "cell_type": "code",
   "execution_count": null,
   "metadata": {},
   "outputs": [],
   "source": [
    "#export\n",
    "class HF_QstAndAnsModelCallback(HF_BaseModelCallback):  \n",
    "    \"\"\"We need to return everything from the model for question/answer tasks\"\"\"\n",
    "    def after_pred(self): self.learn.pred = self.pred"
   ]
  },
  {
   "cell_type": "markdown",
   "metadata": {},
   "source": [
    "And here we provide a custom loss function our question answer task, expanding on some techniques learned from here and here.\n",
    "\n",
    "In fact, this new loss function can be used in many other multi-modal architectures, with any mix of loss functions.  For example, this can be ammended to include the `is_impossible` task, as well as the start/end token tasks in the SQUAD v2 dataset."
   ]
  },
  {
   "cell_type": "code",
   "execution_count": null,
   "metadata": {},
   "outputs": [],
   "source": [
    "#export\n",
    "class MultiTargetLoss(Module):\n",
    "    \"\"\"Provides the ability to apply different loss functions to multi-modal targets/predictions\"\"\"\n",
    "    def __init__(self, loss_classes=[CrossEntropyLossFlat, CrossEntropyLossFlat], loss_classes_kwargs=[{}, {}], \n",
    "                 weights=[1, 1], reduction='mean'):\n",
    "        \n",
    "        loss_funcs = [ cls(reduction=reduction, **kwargs) for cls, kwargs in zip(loss_classes, loss_classes_kwargs) ]\n",
    "        store_attr(self, 'loss_funcs, weights')\n",
    "        self._reduction = reduction\n",
    "        \n",
    "    # custom loss function must have either a reduction attribute or a reduction argument (like all fastai and\n",
    "    # PyTorch loss functions) so that the framework can change this as needed (e.g., when doing lear.get_preds \n",
    "    # it will set = 'none'). see this forum topic for more info: https://bit.ly/3br2Syz\n",
    "    @property\n",
    "    def reduction(self): return self._reduction\n",
    "    \n",
    "    @reduction.setter\n",
    "    def reduction(self, v): \n",
    "        self._reduction = v\n",
    "        for lf in self.loss_funcs: lf.reduction = v\n",
    "\n",
    "    def forward(self, outputs, *targets):\n",
    "        loss = 0.\n",
    "        for i, loss_func, weights, output, target in zip(range(len(outputs)), \n",
    "                                                         self.loss_funcs, self.weights,\n",
    "                                                         outputs, targets):\n",
    "            loss += weights * loss_func(output, target) \n",
    "                \n",
    "        return loss\n",
    "    \n",
    "    def activation(self, outs): \n",
    "        acts = [ self.loss_funcs[i].activation(o) for i, o in enumerate(outs) ]\n",
    "        return acts\n",
    "\n",
    "    def decodes(self, outs):   \n",
    "        decodes = [ self.loss_funcs[i].decodes(o) for i, o in enumerate(outs) ]\n",
    "        return decodes\n"
   ]
  },
  {
   "cell_type": "code",
   "execution_count": null,
   "metadata": {},
   "outputs": [],
   "source": [
    "model = HF_BaseModelWrapper(hf_model)\n",
    "\n",
    "learn = Learner(dls, \n",
    "                model,\n",
    "                opt_func=partial(Adam, decouple_wd=True),\n",
    "                cbs=[HF_QstAndAnsModelCallback],\n",
    "                splitter=hf_splitter)\n",
    "\n",
    "learn.loss_func=MultiTargetLoss()\n",
    "learn.create_opt()                # -> will create your layer groups based on your \"splitter\" function\n",
    "learn.freeze()"
   ]
  },
  {
   "cell_type": "markdown",
   "metadata": {},
   "source": [
    "Notice above how I had to define the loss function *after* creating the `Learner` object.  I'm not sure why, but the `MultiTargetLoss` above prohibits the learner from being exported if I do."
   ]
  },
  {
   "cell_type": "code",
   "execution_count": null,
   "metadata": {},
   "outputs": [],
   "source": [
    "# learn.blurr_summary()"
   ]
  },
  {
   "cell_type": "code",
   "execution_count": null,
   "metadata": {},
   "outputs": [
    {
     "name": "stdout",
     "output_type": "stream",
     "text": [
      "4\n"
     ]
    }
   ],
   "source": [
    "print(len(learn.opt.param_groups))"
   ]
  },
  {
   "cell_type": "code",
   "execution_count": null,
   "metadata": {},
   "outputs": [
    {
     "data": {
      "text/plain": [
       "(2, torch.Size([4, 128]))"
      ]
     },
     "execution_count": null,
     "metadata": {},
     "output_type": "execute_result"
    }
   ],
   "source": [
    "x, y_start, y_end = dls.one_batch()\n",
    "preds = learn.model(x)\n",
    "len(preds),preds[0].shape"
   ]
  },
  {
   "cell_type": "code",
   "execution_count": null,
   "metadata": {},
   "outputs": [
    {
     "data": {
      "text/html": [],
      "text/plain": [
       "<IPython.core.display.HTML object>"
      ]
     },
     "metadata": {},
     "output_type": "display_data"
    },
    {
     "data": {
      "text/plain": [
       "SuggestedLRs(lr_min=0.10964782238006592, lr_steep=7.585775847473997e-07)"
      ]
     },
     "execution_count": null,
     "metadata": {},
     "output_type": "execute_result"
    },
    {
     "data": {
      "image/png": "[encoded data removed]",
      "text/plain": [
       "<Figure size 432x288 with 1 Axes>"
      ]
     },
     "metadata": {
      "needs_background": "light"
     },
     "output_type": "display_data"
    }
   ],
   "source": [
    "#slow\n",
    "learn.lr_find(suggestions=True)"
   ]
  },
  {
   "cell_type": "code",
   "execution_count": null,
   "metadata": {},
   "outputs": [
    {
     "data": {
      "text/html": [
       "<table border=\"1\" class=\"dataframe\">\n",
       "  <thead>\n",
       "    <tr style=\"text-align: left;\">\n",
       "      <th>epoch</th>\n",
       "      <th>train_loss</th>\n",
       "      <th>valid_loss</th>\n",
       "      <th>time</th>\n",
       "    </tr>\n",
       "  </thead>\n",
       "  <tbody>\n",
       "    <tr>\n",
       "      <td>0</td>\n",
       "      <td>4.711932</td>\n",
       "      <td>2.651879</td>\n",
       "      <td>00:02</td>\n",
       "    </tr>\n",
       "    <tr>\n",
       "      <td>1</td>\n",
       "      <td>3.406733</td>\n",
       "      <td>2.058545</td>\n",
       "      <td>00:02</td>\n",
       "    </tr>\n",
       "    <tr>\n",
       "      <td>2</td>\n",
       "      <td>2.632739</td>\n",
       "      <td>1.957371</td>\n",
       "      <td>00:02</td>\n",
       "    </tr>\n",
       "  </tbody>\n",
       "</table>"
      ],
      "text/plain": [
       "<IPython.core.display.HTML object>"
      ]
     },
     "metadata": {},
     "output_type": "display_data"
    }
   ],
   "source": [
    "#slow\n",
    "learn.fit_one_cycle(3, lr_max=1e-3)"
   ]
  },
  {
   "cell_type": "markdown",
   "metadata": {},
   "source": [
    "### Showing results\n",
    "\n",
    "Below we'll add in additional functionality to more intuitively show the results of our model."
   ]
  },
  {
   "cell_type": "code",
   "execution_count": null,
   "metadata": {},
   "outputs": [],
   "source": [
    "#export\n",
    "@typedispatch\n",
    "def show_results(x:HF_QuestionAnswerInput, y, samples, outs, learner=None, skip_special_tokens=True, \n",
    "                 ctxs=None, max_n=6, **kwargs):     \n",
    "    # grab tokenizer\n",
    "    hf_textblock_tfm = learner.dls.tfms[0]\n",
    "    hf_tokenizer = hf_textblock_tfm.hf_tokenizer\n",
    "    \n",
    "    res = L()\n",
    "    for sample, input_ids, start, end, pred in zip(samples, x[0], *y, outs):\n",
    "        txt = sample[0]\n",
    "        ans_toks = hf_tokenizer.convert_ids_to_tokens(input_ids, skip_special_tokens=False)[start:end]\n",
    "        pred_ans_toks = hf_tokenizer.convert_ids_to_tokens(input_ids, skip_special_tokens=False)[int(pred[0]):int(pred[1])]\n",
    "        \n",
    "        res.append((txt,\n",
    "                    (start.item(),end.item()), hf_tokenizer.convert_tokens_to_string(ans_toks),\n",
    "                    (int(pred[0]),int(pred[1])), hf_tokenizer.convert_tokens_to_string(pred_ans_toks)))\n",
    "\n",
    "    df = pd.DataFrame(res, columns=['text', 'start/end', 'answer', 'pred start/end', 'pred answer'])\n",
    "    display_df(df[:max_n])\n",
    "    return ctxs"
   ]
  },
  {
   "cell_type": "code",
   "execution_count": null,
   "metadata": {},
   "outputs": [
    {
     "data": {
      "text/html": [],
      "text/plain": [
       "<IPython.core.display.HTML object>"
      ]
     },
     "metadata": {},
     "output_type": "display_data"
    },
    {
     "data": {
      "text/html": [
       "<table border=\"1\" class=\"dataframe\">\n",
       "  <thead>\n",
       "    <tr style=\"text-align: right;\">\n",
       "      <th></th>\n",
       "      <th>text</th>\n",
       "      <th>start/end</th>\n",
       "      <th>answer</th>\n",
       "      <th>pred start/end</th>\n",
       "      <th>pred answer</th>\n",
       "    </tr>\n",
       "  </thead>\n",
       "  <tbody>\n",
       "    <tr>\n",
       "      <th>0</th>\n",
       "      <td>what was the degree of frederic's association with political insurrection? in his native poland, in france, where he composed most of his works, and beyond, chopin's music, his status as one of music's earliest superstars, his association ( if only indirect ) with political insurrection, his love life and his early death have made him, in the public consciousness, a leading symbol of the romantic era. his works remain popular, and he has been the subject of numerous films and biographies of varying degrees of historical accuracy.</td>\n",
       "      <td>(56, 57)</td>\n",
       "      <td>indirect</td>\n",
       "      <td>(56, 57)</td>\n",
       "      <td>indirect</td>\n",
       "    </tr>\n",
       "    <tr>\n",
       "      <th>1</th>\n",
       "      <td>how was the suit settled? the release of a video - game starpower : beyonce was cancelled after beyonce pulled out of a $ 100 million with gatefive who alleged the cancellation meant the sacking of 70 staff and millions of pounds lost in development. it was settled out of court by her lawyers in june 2013 who said that they had cancelled because gatefive had lost its financial backers. beyonce also has had deals with american express, nintendo ds and l'oreal since the age of 18.</td>\n",
       "      <td>(56, 59)</td>\n",
       "      <td>out of court</td>\n",
       "      <td>(56, 81)</td>\n",
       "      <td>out of court by her lawyers in june 2013 who said that they had cancelled because gatefive had lost its financial backers</td>\n",
       "    </tr>\n",
       "  </tbody>\n",
       "</table>"
      ],
      "text/plain": [
       "<IPython.core.display.HTML object>"
      ]
     },
     "metadata": {},
     "output_type": "display_data"
    }
   ],
   "source": [
    "learn.show_results(learner=learn, skip_special_tokens=True, max_n=2)"
   ]
  },
  {
   "cell_type": "code",
   "execution_count": null,
   "metadata": {},
   "outputs": [
    {
     "data": {
      "text/html": [],
      "text/plain": [
       "<IPython.core.display.HTML object>"
      ]
     },
     "metadata": {},
     "output_type": "display_data"
    },
    {
     "data": {
      "text/plain": [
       "(('11', '12'),\n",
       " tensor([11]),\n",
       " tensor([[7.3021e-08, 2.0943e-07, 1.0810e-08, 3.1980e-08, 2.0152e-08, 1.6194e-08,\n",
       "          7.9661e-10, 7.3024e-08, 1.4909e-04, 9.1756e-06, 4.2849e-04, 9.9930e-01,\n",
       "          2.9859e-05, 9.7572e-07, 9.3954e-06, 7.3746e-08, 3.5214e-05, 3.3559e-05,\n",
       "          7.7704e-08, 7.3545e-06, 5.9468e-07, 7.3009e-08, 7.3343e-08, 4.6143e-10,\n",
       "          5.1648e-10, 4.8182e-10, 4.7790e-10, 4.9292e-10, 5.0651e-10, 5.0436e-10,\n",
       "          4.7118e-10, 4.8288e-10, 5.0259e-10, 4.9650e-10, 4.4875e-10, 4.4326e-10,\n",
       "          4.6643e-10, 4.6361e-10, 4.4272e-10, 4.4284e-10, 4.4960e-10, 4.6260e-10,\n",
       "          4.7463e-10, 4.6140e-10, 4.8058e-10, 4.8377e-10, 4.7543e-10, 4.6814e-10,\n",
       "          4.7134e-10, 4.7154e-10, 4.9262e-10, 4.8325e-10, 4.7951e-10, 4.9162e-10,\n",
       "          5.1543e-10, 5.1312e-10, 4.9974e-10, 4.7989e-10, 4.7980e-10, 5.1580e-10,\n",
       "          5.0621e-10, 4.7334e-10, 4.6308e-10, 4.7710e-10, 5.0421e-10, 4.7494e-10,\n",
       "          4.5583e-10, 4.6301e-10, 4.6859e-10, 4.9702e-10, 4.6953e-10, 4.7595e-10,\n",
       "          4.8402e-10, 4.9702e-10, 4.8397e-10, 4.8172e-10, 4.8182e-10, 4.9058e-10,\n",
       "          5.1087e-10, 4.8165e-10, 4.8996e-10, 5.0494e-10, 5.2147e-10, 5.2866e-10,\n",
       "          4.9911e-10, 4.8366e-10, 5.0972e-10, 5.5790e-10, 5.3748e-10, 4.7495e-10,\n",
       "          4.5539e-10, 4.8057e-10, 4.6029e-10, 4.0484e-10, 4.4096e-10, 4.2651e-10,\n",
       "          4.6330e-10, 4.3680e-10, 4.2806e-10, 4.5035e-10, 4.4115e-10, 4.3409e-10,\n",
       "          4.2524e-10, 4.2085e-10, 4.3324e-10, 4.7027e-10, 4.5732e-10, 4.3589e-10,\n",
       "          4.4559e-10, 4.5618e-10, 4.8662e-10, 4.6182e-10, 4.6041e-10, 4.6440e-10,\n",
       "          4.9880e-10, 5.0453e-10, 4.6393e-10, 4.5075e-10, 4.3746e-10, 4.4255e-10,\n",
       "          4.1235e-10, 3.9090e-10, 4.3339e-10, 4.2118e-10, 4.3295e-10, 4.3825e-10,\n",
       "          4.1694e-10, 4.4524e-10]]))"
      ]
     },
     "execution_count": null,
     "metadata": {},
     "output_type": "execute_result"
    }
   ],
   "source": [
    "inf_df = pd.DataFrame.from_dict([{\n",
    "    'question': 'What did George Lucas make?',\n",
    "    'context': 'George Lucas created Star Wars in 1977. He directed and produced it.'   \n",
    "}], \n",
    "    orient='columns')\n",
    "\n",
    "learn.blurr_predict(inf_df.iloc[0])"
   ]
  },
  {
   "cell_type": "code",
   "execution_count": null,
   "metadata": {},
   "outputs": [
    {
     "data": {
      "text/plain": [
       "['star', 'wars']"
      ]
     },
     "execution_count": null,
     "metadata": {},
     "output_type": "execute_result"
    }
   ],
   "source": [
    "inp_ids = hf_tokenizer.encode('What did George Lucas make?',\n",
    "                              'George Lucas created Star Wars in 1977. He directed and produced it.')\n",
    "\n",
    "hf_tokenizer.convert_ids_to_tokens(inp_ids, skip_special_tokens=False)[11:13]"
   ]
  },
  {
   "cell_type": "markdown",
   "metadata": {},
   "source": [
    "Note that there is a bug currently in fastai v2 (or with how I'm assembling everything) that currently prevents us from seeing the decoded predictions and probabilities for the \"end\" token."
   ]
  },
  {
   "cell_type": "code",
   "execution_count": null,
   "metadata": {},
   "outputs": [
    {
     "data": {
      "text/html": [],
      "text/plain": [
       "<IPython.core.display.HTML object>"
      ]
     },
     "metadata": {},
     "output_type": "display_data"
    }
   ],
   "source": [
    "inf_df = pd.DataFrame.from_dict([{\n",
    "    'question': 'When was Star Wars made?',\n",
    "    'context': 'George Lucas created Star Wars in 1977. He directed and produced it.'\n",
    "}], \n",
    "    orient='columns')\n",
    "\n",
    "test_dl = dls.test_dl(inf_df)\n",
    "inp = test_dl.one_batch()[0]['input_ids']\n",
    "probs, _, preds = learn.get_preds(dl=test_dl, with_input=False, with_decoded=True)"
   ]
  },
  {
   "cell_type": "code",
   "execution_count": null,
   "metadata": {},
   "outputs": [
    {
     "data": {
      "text/plain": [
       "['1977']"
      ]
     },
     "execution_count": null,
     "metadata": {},
     "output_type": "execute_result"
    }
   ],
   "source": [
    "hf_tokenizer.convert_ids_to_tokens(inp.tolist()[0], \n",
    "                                   skip_special_tokens=False)[torch.argmax(probs[0]):torch.argmax(probs[1])]"
   ]
  },
  {
   "cell_type": "code",
   "execution_count": null,
   "metadata": {},
   "outputs": [],
   "source": [
    "learn.unfreeze()"
   ]
  },
  {
   "cell_type": "code",
   "execution_count": null,
   "metadata": {},
   "outputs": [
    {
     "data": {
      "text/html": [
       "<table border=\"1\" class=\"dataframe\">\n",
       "  <thead>\n",
       "    <tr style=\"text-align: left;\">\n",
       "      <th>epoch</th>\n",
       "      <th>train_loss</th>\n",
       "      <th>valid_loss</th>\n",
       "      <th>time</th>\n",
       "    </tr>\n",
       "  </thead>\n",
       "  <tbody>\n",
       "    <tr>\n",
       "      <td>0</td>\n",
       "      <td>1.838327</td>\n",
       "      <td>1.711541</td>\n",
       "      <td>00:08</td>\n",
       "    </tr>\n",
       "    <tr>\n",
       "      <td>1</td>\n",
       "      <td>1.544638</td>\n",
       "      <td>1.497579</td>\n",
       "      <td>00:08</td>\n",
       "    </tr>\n",
       "    <tr>\n",
       "      <td>2</td>\n",
       "      <td>1.359908</td>\n",
       "      <td>1.461344</td>\n",
       "      <td>00:08</td>\n",
       "    </tr>\n",
       "  </tbody>\n",
       "</table>"
      ],
      "text/plain": [
       "<IPython.core.display.HTML object>"
      ]
     },
     "metadata": {},
     "output_type": "display_data"
    }
   ],
   "source": [
    "#slow\n",
    "learn.fit_one_cycle(3, lr_max=slice(1e-7, 1e-4))"
   ]
  },
  {
   "cell_type": "code",
   "execution_count": null,
   "metadata": {},
   "outputs": [
    {
     "data": {
      "image/png": "[encoded data removed]",
      "text/plain": [
       "<Figure size 432x288 with 1 Axes>"
      ]
     },
     "metadata": {
      "needs_background": "light"
     },
     "output_type": "display_data"
    }
   ],
   "source": [
    "learn.recorder.plot_loss()"
   ]
  },
  {
   "cell_type": "code",
   "execution_count": null,
   "metadata": {},
   "outputs": [
    {
     "data": {
      "text/html": [],
      "text/plain": [
       "<IPython.core.display.HTML object>"
      ]
     },
     "metadata": {},
     "output_type": "display_data"
    },
    {
     "data": {
      "text/html": [
       "<table border=\"1\" class=\"dataframe\">\n",
       "  <thead>\n",
       "    <tr style=\"text-align: right;\">\n",
       "      <th></th>\n",
       "      <th>text</th>\n",
       "      <th>start/end</th>\n",
       "      <th>answer</th>\n",
       "      <th>pred start/end</th>\n",
       "      <th>pred answer</th>\n",
       "    </tr>\n",
       "  </thead>\n",
       "  <tbody>\n",
       "    <tr>\n",
       "      <th>0</th>\n",
       "      <td>what was the degree of frederic's association with political insurrection? in his native poland, in france, where he composed most of his works, and beyond, chopin's music, his status as one of music's earliest superstars, his association ( if only indirect ) with political insurrection, his love life and his early death have made him, in the public consciousness, a leading symbol of the romantic era. his works remain popular, and he has been the subject of numerous films and biographies of varying degrees of historical accuracy.</td>\n",
       "      <td>(56, 57)</td>\n",
       "      <td>indirect</td>\n",
       "      <td>(56, 57)</td>\n",
       "      <td>indirect</td>\n",
       "    </tr>\n",
       "    <tr>\n",
       "      <th>1</th>\n",
       "      <td>when did she stop using her father as a manager? beyonce announced a hiatus from her music career in january 2010, heeding her mother's advice, \" to live life, to be inspired by things again \". during the break she and her father parted ways as business partners. beyonce's musical break lasted nine months and saw her visit multiple european cities, the great wall of china, the egyptian pyramids, australia, english music festivals and various museums and ballet performances.</td>\n",
       "      <td>(46, 49)</td>\n",
       "      <td>during the break</td>\n",
       "      <td>(46, 24)</td>\n",
       "      <td></td>\n",
       "    </tr>\n",
       "  </tbody>\n",
       "</table>"
      ],
      "text/plain": [
       "<IPython.core.display.HTML object>"
      ]
     },
     "metadata": {},
     "output_type": "display_data"
    }
   ],
   "source": [
    "learn.show_results(learner=learn, max_n=2)"
   ]
  },
  {
   "cell_type": "code",
   "execution_count": null,
   "metadata": {},
   "outputs": [
    {
     "data": {
      "text/html": [],
      "text/plain": [
       "<IPython.core.display.HTML object>"
      ]
     },
     "metadata": {},
     "output_type": "display_data"
    },
    {
     "data": {
      "text/plain": [
       "(('14', '15'),\n",
       " tensor([14]),\n",
       " tensor([[1.3491e-07, 4.7744e-07, 4.6159e-08, 3.6362e-08, 1.8871e-08, 1.1658e-07,\n",
       "          8.7196e-09, 1.3492e-07, 1.5896e-05, 2.9174e-06, 1.9688e-05, 2.7406e-05,\n",
       "          4.7958e-07, 1.5575e-03, 9.9837e-01, 3.1343e-07, 2.9248e-07, 3.8377e-07,\n",
       "          1.5405e-08, 2.0981e-07, 1.5375e-07, 1.3489e-07, 1.3513e-07, 1.5317e-09,\n",
       "          1.7299e-09, 1.6294e-09, 1.6358e-09, 1.6192e-09, 1.6529e-09, 1.5747e-09,\n",
       "          1.5758e-09, 1.5628e-09, 1.7079e-09, 1.7116e-09, 1.5565e-09, 1.5579e-09,\n",
       "          1.5767e-09, 1.5587e-09, 1.5491e-09, 1.5587e-09, 1.5036e-09, 1.5191e-09,\n",
       "          1.5627e-09, 1.5460e-09, 1.5445e-09, 1.5707e-09, 1.5177e-09, 1.5236e-09,\n",
       "          1.5394e-09, 1.5063e-09, 1.6607e-09, 1.5858e-09, 1.5757e-09, 1.5989e-09,\n",
       "          1.6022e-09, 1.6452e-09, 1.5743e-09, 1.5695e-09, 1.5390e-09, 1.7259e-09,\n",
       "          1.7266e-09, 1.5917e-09, 1.5797e-09, 1.5712e-09, 1.6076e-09, 1.5400e-09,\n",
       "          1.5598e-09, 1.4997e-09, 1.5154e-09, 1.7175e-09, 1.5397e-09, 1.5535e-09,\n",
       "          1.5659e-09, 1.6333e-09, 1.5561e-09, 1.5968e-09, 1.5624e-09, 1.6300e-09,\n",
       "          1.7683e-09, 1.6520e-09, 1.6808e-09, 1.6389e-09, 1.7205e-09, 1.6592e-09,\n",
       "          1.6194e-09, 1.6104e-09, 1.7001e-09, 1.8370e-09, 1.7852e-09, 1.5992e-09,\n",
       "          1.5743e-09, 1.6333e-09, 1.5490e-09, 1.5252e-09, 1.5398e-09, 1.4837e-09,\n",
       "          1.6619e-09, 1.5725e-09, 1.4885e-09, 1.5442e-09, 1.5456e-09, 1.5262e-09,\n",
       "          1.5090e-09, 1.5046e-09, 1.5084e-09, 1.7440e-09, 1.6885e-09, 1.5419e-09,\n",
       "          1.5541e-09, 1.6170e-09, 1.6259e-09, 1.6301e-09, 1.6064e-09, 1.5502e-09,\n",
       "          1.7541e-09, 1.7735e-09, 1.6557e-09, 1.5869e-09, 1.5644e-09, 1.5697e-09,\n",
       "          1.5580e-09, 1.5442e-09, 1.6138e-09, 1.5059e-09, 1.5134e-09, 1.6082e-09,\n",
       "          1.5234e-09, 1.5739e-09]]))"
      ]
     },
     "execution_count": null,
     "metadata": {},
     "output_type": "execute_result"
    }
   ],
   "source": [
    "learn.blurr_predict(inf_df.iloc[0])"
   ]
  },
  {
   "cell_type": "code",
   "execution_count": null,
   "metadata": {},
   "outputs": [
    {
     "data": {
      "text/html": [],
      "text/plain": [
       "<IPython.core.display.HTML object>"
      ]
     },
     "metadata": {},
     "output_type": "display_data"
    },
    {
     "data": {
      "text/plain": [
       "('14', '15')"
      ]
     },
     "execution_count": null,
     "metadata": {},
     "output_type": "execute_result"
    }
   ],
   "source": [
    "preds, pred_classes, probs = learn.blurr_predict(inf_df.iloc[0])\n",
    "preds"
   ]
  },
  {
   "cell_type": "code",
   "execution_count": null,
   "metadata": {},
   "outputs": [
    {
     "data": {
      "text/plain": [
       "['1977']"
      ]
     },
     "execution_count": null,
     "metadata": {},
     "output_type": "execute_result"
    }
   ],
   "source": [
    "inp_ids = hf_tokenizer.encode('When was Star Wars made?',\n",
    "                              'George Lucas created Star Wars in 1977. He directed and produced it.')\n",
    "\n",
    "hf_tokenizer.convert_ids_to_tokens(inp_ids, skip_special_tokens=False)[int(preds[0]):int(preds[1])]"
   ]
  },
  {
   "cell_type": "markdown",
   "metadata": {},
   "source": [
    "### Inference\n",
    "\n",
    "Note that I had to replace the loss function because of the above-mentioned issue to exporting the model with the `MultiTargetLoss` loss function.  After getting our inference learner, we put it back and we're good to go!"
   ]
  },
  {
   "cell_type": "code",
   "execution_count": null,
   "metadata": {},
   "outputs": [],
   "source": [
    "learn.loss_func = nn.CrossEntropyLoss()\n",
    "learn.export(fname='q_and_a_learn_export.pkl')"
   ]
  },
  {
   "cell_type": "code",
   "execution_count": null,
   "metadata": {},
   "outputs": [
    {
     "data": {
      "text/html": [],
      "text/plain": [
       "<IPython.core.display.HTML object>"
      ]
     },
     "metadata": {},
     "output_type": "display_data"
    },
    {
     "data": {
      "text/plain": [
       "(('7', '14'),\n",
       " tensor([7]),\n",
       " tensor([[5.0022e-08, 2.6667e-08, 7.1714e-09, 4.6586e-08, 9.4125e-09, 1.7246e-09,\n",
       "          5.0028e-08, 9.9969e-01, 2.9365e-04, 4.2041e-07, 4.5673e-06, 8.0988e-08,\n",
       "          3.1561e-07, 7.7433e-06, 2.5973e-08, 2.2018e-06, 1.5432e-07, 5.9332e-09,\n",
       "          7.5795e-08, 2.8155e-08, 5.0021e-08, 4.9752e-08, 5.3572e-10, 6.2678e-10,\n",
       "          5.7453e-10, 5.6666e-10, 5.8018e-10, 5.7488e-10, 5.8128e-10, 5.5749e-10,\n",
       "          5.4527e-10, 6.5443e-10, 6.3455e-10, 5.5986e-10, 5.2974e-10, 5.5085e-10,\n",
       "          5.4604e-10, 5.3734e-10, 5.6551e-10, 5.4444e-10, 5.5087e-10, 5.5863e-10,\n",
       "          5.6454e-10, 5.5227e-10, 5.6322e-10, 5.6410e-10, 5.4997e-10, 5.6349e-10,\n",
       "          5.5658e-10, 5.9111e-10, 6.1093e-10, 5.8248e-10, 5.6582e-10, 5.7013e-10,\n",
       "          5.8055e-10, 5.8033e-10, 5.6228e-10, 5.5193e-10, 6.2727e-10, 6.3348e-10,\n",
       "          5.6516e-10, 5.5566e-10, 5.5919e-10, 5.5566e-10, 5.6665e-10, 5.5240e-10,\n",
       "          5.5121e-10, 5.4452e-10, 5.7179e-10, 5.7733e-10, 5.5253e-10, 5.6163e-10,\n",
       "          5.6591e-10, 5.6253e-10, 5.4642e-10, 5.4346e-10, 5.4309e-10, 6.7774e-10,\n",
       "          5.6121e-10, 5.6176e-10, 5.5896e-10, 5.6997e-10, 5.8170e-10, 5.7140e-10,\n",
       "          5.5148e-10, 6.2855e-10, 6.6677e-10, 6.3832e-10, 5.4804e-10, 5.4098e-10,\n",
       "          5.6447e-10, 5.2013e-10, 5.0039e-10, 5.3759e-10, 4.8619e-10, 5.9302e-10,\n",
       "          5.0935e-10, 4.9962e-10, 5.2463e-10, 5.1998e-10, 5.2730e-10, 5.1127e-10,\n",
       "          5.0707e-10, 5.0721e-10, 6.2119e-10, 6.6794e-10, 5.2777e-10, 5.1709e-10,\n",
       "          5.4953e-10, 5.5922e-10, 5.6450e-10, 5.7951e-10, 5.6530e-10, 6.2843e-10,\n",
       "          6.7591e-10, 5.6006e-10, 5.1850e-10, 4.9341e-10, 5.3353e-10, 5.1773e-10,\n",
       "          5.0674e-10, 5.6601e-10, 5.1550e-10, 5.4608e-10, 5.4311e-10, 5.2816e-10,\n",
       "          5.3831e-10, 5.3898e-10]]))"
      ]
     },
     "execution_count": null,
     "metadata": {},
     "output_type": "execute_result"
    }
   ],
   "source": [
    "inf_learn = load_learner(fname='q_and_a_learn_export.pkl')\n",
    "inf_learn.loss_func = MultiTargetLoss()\n",
    "\n",
    "inf_df = pd.DataFrame.from_dict([\n",
    "    {'question': 'Who created Star Wars?', \n",
    "     'context': 'George Lucas created Star Wars in 1977. He directed and produced it.'}],\n",
    "    orient='columns')\n",
    "\n",
    "inf_learn.blurr_predict(inf_df.iloc[0])"
   ]
  },
  {
   "cell_type": "code",
   "execution_count": null,
   "metadata": {},
   "outputs": [
    {
     "data": {
      "text/plain": [
       "['george', 'lucas']"
      ]
     },
     "execution_count": null,
     "metadata": {},
     "output_type": "execute_result"
    }
   ],
   "source": [
    "inp_ids = hf_tokenizer.encode('Who created Star Wars?',\n",
    "                              'George Lucas created Star Wars in 1977. He directed and produced it.')\n",
    "\n",
    "hf_tokenizer.convert_ids_to_tokens(inp_ids, skip_special_tokens=False)[7:9]"
   ]
  },
  {
   "cell_type": "markdown",
   "metadata": {},
   "source": [
    "## Cleanup"
   ]
  },
  {
   "cell_type": "code",
   "execution_count": null,
   "metadata": {},
   "outputs": [
    {
     "name": "stdout",
     "output_type": "stream",
     "text": [
      "Converted 00_utils.ipynb.\n",
      "Converted 01_data-core.ipynb.\n",
      "Converted 01a_data-language-modeling.ipynb.\n",
      "Converted 01c_data-question-answering.ipynb.\n",
      "Converted 01d_data-token-classification.ipynb.\n",
      "Converted 01e_data-summarization.ipynb.\n",
      "Converted 02_modeling-core.ipynb.\n",
      "Converted 02a_modeling-language-modeling.ipynb.\n",
      "Converted 02c_modeling-question-answering.ipynb.\n",
      "Converted 02d_modeling-token-classification.ipynb.\n",
      "Converted 02e_modeling-text-generation.ipynb.\n",
      "Converted index.ipynb.\n"
     ]
    }
   ],
   "source": [
    "#hide\n",
    "from nbdev.export import notebook2script\n",
    "notebook2script()"
   ]
  },
  {
   "cell_type": "code",
   "execution_count": null,
   "metadata": {},
   "outputs": [],
   "source": []
  }
 ],
 "metadata": {
  "kernelspec": {
   "display_name": "Python 3",
   "language": "python",
   "name": "python3"
  }
 },
 "nbformat": 4,
 "nbformat_minor": 4
}
