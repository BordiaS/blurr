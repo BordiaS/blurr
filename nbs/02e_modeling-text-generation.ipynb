{
 "cells": [
  {
   "cell_type": "code",
   "execution_count": null,
   "metadata": {},
   "outputs": [],
   "source": [
    "# default_exp modeling.text_generation"
   ]
  },
  {
   "cell_type": "code",
   "execution_count": null,
   "metadata": {},
   "outputs": [],
   "source": [
    "#hide\n",
    "%reload_ext autoreload\n",
    "%autoreload 2\n",
    "%matplotlib inline"
   ]
  },
  {
   "cell_type": "markdown",
   "metadata": {},
   "source": [
    "# modeling.text_generation\n",
    "\n",
    "> This module contains custom models, loss functions, custom splitters, etc... for token classification tasks like summarization."
   ]
  },
  {
   "cell_type": "code",
   "execution_count": null,
   "metadata": {},
   "outputs": [],
   "source": [
    "#export\n",
    "import ast, torch\n",
    "from transformers import *\n",
    "from fastai2.text.all import *\n",
    "\n",
    "from blurr.data.all import *\n",
    "from blurr.modeling.core import *"
   ]
  },
  {
   "cell_type": "code",
   "execution_count": null,
   "metadata": {},
   "outputs": [],
   "source": [
    "#hide\n",
    "import pdb\n",
    "\n",
    "from nbdev.showdoc import *\n",
    "from fastcore.test import *"
   ]
  },
  {
   "cell_type": "code",
   "execution_count": null,
   "metadata": {},
   "outputs": [
    {
     "name": "stdout",
     "output_type": "stream",
     "text": [
      "Using GPU #1: GeForce GTX 1080 Ti\n"
     ]
    }
   ],
   "source": [
    "#cuda\n",
    "torch.cuda.set_device(1)\n",
    "print(f'Using GPU #{torch.cuda.current_device()}: {torch.cuda.get_device_name()}')"
   ]
  },
  {
   "cell_type": "markdown",
   "metadata": {},
   "source": [
    "## Text generation\n",
    "\n",
    "The objective of text generation is to create reasonable textual responses given a prior piece of input.  For example, we may want to summarize an article in a single sentence or have a chatbot provide a sensible response to a question."
   ]
  },
  {
   "cell_type": "code",
   "execution_count": null,
   "metadata": {},
   "outputs": [
    {
     "data": {
      "text/plain": [
       "1000"
      ]
     },
     "execution_count": null,
     "metadata": {},
     "output_type": "execute_result"
    }
   ],
   "source": [
    "path = Path('./')\n",
    "cnndm_df = pd.read_csv(path/'cnndm_sample.csv'); len(cnndm_df)"
   ]
  },
  {
   "cell_type": "code",
   "execution_count": null,
   "metadata": {},
   "outputs": [
    {
     "data": {
      "text/html": [
       "<div>\n",
       "<style scoped>\n",
       "    .dataframe tbody tr th:only-of-type {\n",
       "        vertical-align: middle;\n",
       "    }\n",
       "\n",
       "    .dataframe tbody tr th {\n",
       "        vertical-align: top;\n",
       "    }\n",
       "\n",
       "    .dataframe thead th {\n",
       "        text-align: right;\n",
       "    }\n",
       "</style>\n",
       "<table border=\"1\" class=\"dataframe\">\n",
       "  <thead>\n",
       "    <tr style=\"text-align: right;\">\n",
       "      <th></th>\n",
       "      <th>article</th>\n",
       "      <th>highlights</th>\n",
       "      <th>ds_type</th>\n",
       "    </tr>\n",
       "  </thead>\n",
       "  <tbody>\n",
       "    <tr>\n",
       "      <th>0</th>\n",
       "      <td>(CNN)  -- Globalization washes like a flood over the world's cultures and economies. Floods can be destructive; however, they can also bring blessings, as the annual floods of the Nile did for ancient Egypt. The world's great universities can be crucial instruments in shaping, in a positive way, humankind's reaction to globalization and the development of humankind itself. Traditionally, universities have been defined and limited by location, creating an academic community and drawing students and scholars to that place. Eventually, some universities began to encourage students to study el...</td>\n",
       "      <td>John Sexton: Traditionally, universities have been defined and limited by location .\\nGlobal campuses form a network of thought, innovation, he writes .\\nFaculty can teach, Sexton says, students can team up in many cities at once .\\nSexton: Research, scholarship can be shared and cultural ties made in \"century of knowledge\"</td>\n",
       "      <td>train</td>\n",
       "    </tr>\n",
       "    <tr>\n",
       "      <th>1</th>\n",
       "      <td>(CNN) -- Armenian President Robert Kocharian declared a state of emergency Saturday night after a day of clashes between police and protesters, a spokeswoman for the Armenian Foreign Ministry said. Opposition supporters wave an Armenian flag during a protest rally in Yerevan, Armenia, on Saturday. The protesters claim last month's presidential election was rigged. The state of emergency will \"hopefully bring some order\" to the capital, Yerevan, said Salpi Ghazarian, assistant to the Armenian foreign minister, who spoke to CNN early Sunday. The state of emergency could last until March 20, ...</td>\n",
       "      <td>NEW: Protest moves after crackdown at Freedom Square .\\nOrder sought after protests over last month's election turn violent .\\nDemonstrators say the election was fraudulent .\\nState of emergency could last until March 20, official says .</td>\n",
       "      <td>train</td>\n",
       "    </tr>\n",
       "  </tbody>\n",
       "</table>\n",
       "</div>"
      ],
      "text/plain": [
       "                                                                                                                                                                                                                                                                                                                                                                                                                                                                                                                                                                                                                   article  \\\n",
       "0  (CNN)  -- Globalization washes like a flood over the world's cultures and economies. Floods can be destructive; however, they can also bring blessings, as the annual floods of the Nile did for ancient Egypt. The world's great universities can be crucial instruments in shaping, in a positive way, humankind's reaction to globalization and the development of humankind itself. Traditionally, universities have been defined and limited by location, creating an academic community and drawing students and scholars to that place. Eventually, some universities began to encourage students to study el...   \n",
       "1  (CNN) -- Armenian President Robert Kocharian declared a state of emergency Saturday night after a day of clashes between police and protesters, a spokeswoman for the Armenian Foreign Ministry said. Opposition supporters wave an Armenian flag during a protest rally in Yerevan, Armenia, on Saturday. The protesters claim last month's presidential election was rigged. The state of emergency will \"hopefully bring some order\" to the capital, Yerevan, said Salpi Ghazarian, assistant to the Armenian foreign minister, who spoke to CNN early Sunday. The state of emergency could last until March 20, ...   \n",
       "\n",
       "                                                                                                                                                                                                                                                                                                                              highlights  \\\n",
       "0  John Sexton: Traditionally, universities have been defined and limited by location .\\nGlobal campuses form a network of thought, innovation, he writes .\\nFaculty can teach, Sexton says, students can team up in many cities at once .\\nSexton: Research, scholarship can be shared and cultural ties made in \"century of knowledge\"   \n",
       "1                                                                                          NEW: Protest moves after crackdown at Freedom Square .\\nOrder sought after protests over last month's election turn violent .\\nDemonstrators say the election was fraudulent .\\nState of emergency could last until March 20, official says .   \n",
       "\n",
       "  ds_type  \n",
       "0   train  \n",
       "1   train  "
      ]
     },
     "execution_count": null,
     "metadata": {},
     "output_type": "execute_result"
    }
   ],
   "source": [
    "cnndm_df.head(2)"
   ]
  },
  {
   "cell_type": "code",
   "execution_count": null,
   "metadata": {},
   "outputs": [
    {
     "name": "stderr",
     "output_type": "stream",
     "text": [
      "Some weights of BartForConditionalGeneration were not initialized from the model checkpoint at facebook/bart-large-cnn and are newly initialized: ['final_logits_bias']\n",
      "You should probably TRAIN this model on a down-stream task to be able to use it for predictions and inference.\n"
     ]
    },
    {
     "data": {
      "text/plain": [
       "('bart',\n",
       " transformers.configuration_bart.BartConfig,\n",
       " transformers.tokenization_bart.BartTokenizer,\n",
       " transformers.modeling_bart.BartForConditionalGeneration)"
      ]
     },
     "execution_count": null,
     "metadata": {},
     "output_type": "execute_result"
    }
   ],
   "source": [
    "pretrained_model_name = \"facebook/bart-large-cnn\"\n",
    "hf_arch, hf_config, hf_tokenizer, hf_model = BLURR_MODEL_HELPER.get_hf_objects(pretrained_model_name, \n",
    "                                                                               model_cls=BartForConditionalGeneration)\n",
    "\n",
    "hf_arch, type(hf_config), type(hf_tokenizer), type(hf_model)"
   ]
  },
  {
   "cell_type": "code",
   "execution_count": null,
   "metadata": {},
   "outputs": [],
   "source": [
    "hf_batch_tfm = HF_TextGenerationBatchTransform(hf_arch, hf_tokenizer)\n",
    "\n",
    "blocks = ( \n",
    "    HF_TextBlock(hf_arch, hf_tokenizer), \n",
    "    HF_TextBlock(hf_arch, hf_tokenizer, hf_batch_tfm=hf_batch_tfm, max_length=150)\n",
    ")\n",
    "\n",
    "dblock = DataBlock(blocks=blocks, \n",
    "                   get_x=ColReader('article'), \n",
    "                   get_y=ColReader('highlights'), \n",
    "                   splitter=RandomSplitter())"
   ]
  },
  {
   "cell_type": "code",
   "execution_count": null,
   "metadata": {},
   "outputs": [],
   "source": [
    "dls = dblock.dataloaders(cnndm_df, bs=4)"
   ]
  },
  {
   "cell_type": "code",
   "execution_count": null,
   "metadata": {},
   "outputs": [],
   "source": [
    "b = dls.one_batch()"
   ]
  },
  {
   "cell_type": "code",
   "execution_count": null,
   "metadata": {},
   "outputs": [],
   "source": [
    "# len(b), b[0]['input_ids'].shape, b[1].shape"
   ]
  },
  {
   "cell_type": "code",
   "execution_count": null,
   "metadata": {},
   "outputs": [
    {
     "data": {
      "text/html": [
       "<table border=\"1\" class=\"dataframe\">\n",
       "  <thead>\n",
       "    <tr style=\"text-align: right;\">\n",
       "      <th></th>\n",
       "      <th>text</th>\n",
       "      <th>target</th>\n",
       "    </tr>\n",
       "  </thead>\n",
       "  <tbody>\n",
       "    <tr>\n",
       "      <th>0</th>\n",
       "      <td>(CNN) -- With just months to go before the presidential campaign ends all meaningful activity on Capitol Hill, members of Congress are struggling to move a few must-pass pieces of legislation. One of the most pressing is the highway bill, which Congress is considering this week. Not only does all federal funding for transportation depend on passing a bill by March 31; the highway trust fund itself is scheduled to go broke in 2013 and the deal in the making pays for only two years. This is essential national maintenance. Yet Congress is - you guessed it - gridlocked. We all know Washington is broken. What's less clear: Did it ever work better? If it did, what was different? What ingredients have been lost, and can we recapture them? One place to look, especially apt in this instance: The 1956 congressional debate that created the interstate highway system. The 1956 Federal Aid Highway Act was the health-care legislation of its day, an epic Washington battle. The pressure had been building for decades as the number of cars exploded. Traffic was a national nightmare. Many intercity roads were hardly passable, and most Americans recognized that new highways were essential to continue the unprecedented growth the country had been enjoying since the end of World War II. What no one could agree on was how to pay for the new system. The 1950s were a more consensual era, of course. Both Democrats and Republicans had wanted to nominate Gen. Dwight D. Eisenhower for president in 1952, and during the debate over the highway bill, his approval ratings rarely dipped below 70%. But that doesn't mean there were no disagreements. Opinion: What's wrong with Congress? It's not big enough. Ideological divisions were if anything sharper than they are today -- Republicans were the party of big business, Democrats the champions of the people and the New Deal. Elections were just as competitive, partisan jockeying just as intense. And the debate about how to pay for the highway system -- tolls, taxes, bonds or some other way -- wasn't just about money. It was about values - what kind of country we wanted to be. The debate built in intensity through the early '50s. There were blue-ribbon commissions, competing proposals, an array of shifting alliances and armies of lobbyists. The president's proposal and a rival Democratic plan were both shot down in early summer 1955. The main obstacles: truckers, motorists and the oil industry, all resisting new gasoline, tire and vehicle sales taxes. While the American Trucking Association worked behind the</td>\n",
       "      <td>Tamar Jacoby: Congress weighing highway bill that provides transportation funds.\\nShe says 1956 debate that created interestate system should give Congress a clue.\\nShe says battle was fierce, like health care bill today; Congress made deal for public good.\\nJacoby: Truckers, drivers accepted a tax; Congress should learn from this.</td>\n",
       "    </tr>\n",
       "    <tr>\n",
       "      <th>1</th>\n",
       "      <td>ATLANTA, Georgia (CNN)  -- The Bigfoot in the freezer is made of rubber, a Web posting asserted Tuesday. The frozen creature reputed to be Bigfoot turned out to be made of rubber, an enthusaist reports. The initial promoter of two hikers' claim that they found the body of Bigfoot in Georgia said he has determined that the discovery was a hoax. The body turned out to be rubber, and the two men who claimed that they found it, Matthew Whitton and Rick Dyer, have admitted that it was a costume, said a posting Tuesday on the Web sites of Searching for Bigfoot Inc. and Squatchdetective. The posting purportedly was written by Steve Kulls, who maintains the Squatchdetective Web site and hosts a similarly named Internet radio program, where the find was announced weeks ago. In addition, Stanford University anthropologist Richard Klein said Monday that he was not aware he had been identified as participating in the project and would not be involved in any effort to examine the purported Bigfoot carcass. Whitton and Dyer announced last week that they had found the body of a 7-foot-7-inch, 500-pound half-ape, half-human creature while hiking in the north Georgia mountains in June. They said they put the carcass in a freezer and had spotted about three similar living creatures. \"We were not looking for Bigfoot,\" Whitton, a Clayton County, Georgia, police officer, said Friday during a news conference. \"We wouldn't know what we were doing if we did.\" He and Dyer insisted that scientific analysis would bear out their claim. The hoax was discovered after an \"expedited melting process,\" Kulls wrote. \"A break appeared up near the feet area... as the team and I began examining this area near the feet, I observed the foot which looked unnatural, reached in and confirmed it was a rubber foot.\" Kulls said he contacted Tom Biscardi, the self-described \"Real Bigfoot Hunter\" who has been searching since 1971 for the creature of legend and appeared alongside Whitton and Dyer at the news conference. \"Later that day, Tom Biscardi informed us that both Matthew Whitton and Ricky Dyer admitted it was a costume,\" the posting said. Whitton and Dyer reportedly agreed to sign a promissory note and an admission of the hoax and meet with Biscardi at their hotel on Sunday. But when Biscardi went to the hotel, the two had left, Kull</td>\n",
       "      <td>Hikers' discovery made of rubber, Web sites say.\\nMen who made claim didn't show up for CNN's \"American Morning\"\\nStanford professor says his alleged participation in project is news to him.\\n\"There is virtually no prospect of this animal being real,\" professor says.</td>\n",
       "    </tr>\n",
       "  </tbody>\n",
       "</table>"
      ],
      "text/plain": [
       "<IPython.core.display.HTML object>"
      ]
     },
     "metadata": {},
     "output_type": "display_data"
    }
   ],
   "source": [
    "dls.show_batch(hf_tokenizer=hf_tokenizer, max_n=2)"
   ]
  },
  {
   "cell_type": "markdown",
   "metadata": {},
   "source": [
    "In additiont to updating our model wrapper to allow us to include `decoder_input_ids`, below we add a custom param splitter to give us a bit more depth in applying discriminative learning rates."
   ]
  },
  {
   "cell_type": "code",
   "execution_count": null,
   "metadata": {},
   "outputs": [],
   "source": [
    "#export\n",
    "def text_gen_splitter(m, arch):\n",
    "    \"\"\"Custom param splitter for text generation models\"\"\"\n",
    "    model = m.hf_model if (hasattr(m, 'hf_model')) else m\n",
    "    \n",
    "    if (arch == 'bart'):\n",
    "        groups = L(model.model.encoder, \n",
    "                   model.model.decoder.embed_tokens,\n",
    "                   model.model.decoder.embed_positions,\n",
    "                   model.model.decoder.layers,\n",
    "                   model.model.decoder.layernorm_embedding)\n",
    "\n",
    "        return groups.map(params).filter(lambda el: len(el) > 0)\n",
    "    \n",
    "    raise ValueError('Invalid architecture')"
   ]
  },
  {
   "cell_type": "code",
   "execution_count": null,
   "metadata": {},
   "outputs": [
    {
     "data": {
      "text/markdown": [
       "<h4 id=\"text_gen_splitter\" class=\"doc_header\"><code>text_gen_splitter</code><a href=\"__main__.py#L2\" class=\"source_link\" style=\"float:right\">[source]</a></h4>\n",
       "\n",
       "> <code>text_gen_splitter</code>(**`m`**, **`arch`**)\n",
       "\n",
       "Custom param splitter for text generation models"
      ],
      "text/plain": [
       "<IPython.core.display.Markdown object>"
      ]
     },
     "metadata": {},
     "output_type": "display_data"
    }
   ],
   "source": [
    "show_doc(text_gen_splitter)"
   ]
  },
  {
   "cell_type": "code",
   "execution_count": null,
   "metadata": {},
   "outputs": [],
   "source": [
    "#export\n",
    "class HF_TextGenModelCallback(HF_BaseModelCallback):  \n",
    "    def after_pred(self): \n",
    "        if ('labels' in self.xb[0]):\n",
    "            self.hf_loss, self.learn.pred = self.pred[0], self.pred[1]\n",
    "        else:\n",
    "            self.learn.pred = self.pred[0]\n",
    "            \n",
    "    def after_loss(self): self.learn.loss = self.hf_loss"
   ]
  },
  {
   "cell_type": "markdown",
   "metadata": {},
   "source": [
    "Since these huggingface transformers return the loss if when we are training, and pass in both `labels` and `decoder_input_ids` in the input, we use the callback above to capture it and then set `self.learn.loss` to it *prior* to the backward pass by overriding `after_loss`.\n",
    "\n",
    "As a loss function is therefore not required by our `Learner`, we can set it to `noop` as we do below."
   ]
  },
  {
   "cell_type": "code",
   "execution_count": null,
   "metadata": {},
   "outputs": [],
   "source": [
    "class HF_MaskedLMLoss():\n",
    "    def __call__(self, inp, targ, **kwargs): return\n",
    "    def decodes(self, x): return x.argmax(dim=-1)\n",
    "    def activation(self, x): return F.softmax(x, dim=-1)"
   ]
  },
  {
   "cell_type": "code",
   "execution_count": null,
   "metadata": {},
   "outputs": [],
   "source": [
    "model = HF_BaseModelWrapper(hf_model)\n",
    "\n",
    "learn = Learner(dls, \n",
    "                model,\n",
    "                opt_func=ranger,\n",
    "                loss_func=HF_MaskedLMLoss(),\n",
    "                cbs=[HF_TextGenModelCallback],\n",
    "                splitter=partial(text_gen_splitter, arch=hf_arch))#.to_fp16()\n",
    "\n",
    "learn.create_opt() \n",
    "learn.freeze()"
   ]
  },
  {
   "cell_type": "code",
   "execution_count": null,
   "metadata": {},
   "outputs": [],
   "source": [
    "# learn.blurr_summary()"
   ]
  },
  {
   "cell_type": "code",
   "execution_count": null,
   "metadata": {},
   "outputs": [
    {
     "data": {
      "text/plain": [
       "(3,\n",
       " tensor(3.1455, device='cuda:1', grad_fn=<NllLossBackward>),\n",
       " torch.Size([4, 149, 50264]))"
      ]
     },
     "execution_count": null,
     "metadata": {},
     "output_type": "execute_result"
    }
   ],
   "source": [
    "b = dls.one_batch()\n",
    "preds = learn.model(b[0])\n",
    "len(preds),preds[0], preds[1].shape"
   ]
  },
  {
   "cell_type": "code",
   "execution_count": null,
   "metadata": {},
   "outputs": [
    {
     "data": {
      "text/plain": [
       "(2, 4, torch.Size([4, 512]), 4, torch.Size([4, 150]))"
      ]
     },
     "execution_count": null,
     "metadata": {},
     "output_type": "execute_result"
    }
   ],
   "source": [
    "len(b), len(b[0]), b[0]['input_ids'].shape, len(b[1]), b[1].shape"
   ]
  },
  {
   "cell_type": "code",
   "execution_count": null,
   "metadata": {},
   "outputs": [
    {
     "name": "stdout",
     "output_type": "stream",
     "text": [
      "5\n"
     ]
    }
   ],
   "source": [
    "print(len(learn.opt.param_groups))"
   ]
  },
  {
   "cell_type": "code",
   "execution_count": null,
   "metadata": {},
   "outputs": [
    {
     "data": {
      "text/html": [],
      "text/plain": [
       "<IPython.core.display.HTML object>"
      ]
     },
     "metadata": {},
     "output_type": "display_data"
    },
    {
     "data": {
      "text/plain": [
       "SuggestedLRs(lr_min=1.58489319801447e-07, lr_steep=1.3182567499825382e-06)"
      ]
     },
     "execution_count": null,
     "metadata": {},
     "output_type": "execute_result"
    },
    {
     "data": {
      "image/png": "[encoded data removed]",
      "text/plain": [
       "<Figure size 432x288 with 1 Axes>"
      ]
     },
     "metadata": {
      "needs_background": "light"
     },
     "output_type": "display_data"
    }
   ],
   "source": [
    "#slow\n",
    "learn.lr_find(suggestions=True)"
   ]
  },
  {
   "cell_type": "code",
   "execution_count": null,
   "metadata": {},
   "outputs": [
    {
     "data": {
      "text/html": [
       "<table border=\"1\" class=\"dataframe\">\n",
       "  <thead>\n",
       "    <tr style=\"text-align: left;\">\n",
       "      <th>epoch</th>\n",
       "      <th>train_loss</th>\n",
       "      <th>valid_loss</th>\n",
       "      <th>time</th>\n",
       "    </tr>\n",
       "  </thead>\n",
       "  <tbody>\n",
       "    <tr>\n",
       "      <td>0</td>\n",
       "      <td>3.529278</td>\n",
       "      <td>3.303249</td>\n",
       "      <td>00:56</td>\n",
       "    </tr>\n",
       "    <tr>\n",
       "      <td>1</td>\n",
       "      <td>3.476161</td>\n",
       "      <td>3.290421</td>\n",
       "      <td>00:56</td>\n",
       "    </tr>\n",
       "    <tr>\n",
       "      <td>2</td>\n",
       "      <td>3.454700</td>\n",
       "      <td>3.288520</td>\n",
       "      <td>00:56</td>\n",
       "    </tr>\n",
       "  </tbody>\n",
       "</table>"
      ],
      "text/plain": [
       "<IPython.core.display.HTML object>"
      ]
     },
     "metadata": {},
     "output_type": "display_data"
    }
   ],
   "source": [
    "#slow\n",
    "learn.fit_one_cycle(3, lr_max=3e-5)"
   ]
  },
  {
   "cell_type": "code",
   "execution_count": null,
   "metadata": {},
   "outputs": [],
   "source": [
    "#export\n",
    "@typedispatch\n",
    "def show_results(x:HF_TextGenerationInput, y, samples, outs, hf_tokenizer, generated_max_len=130, \n",
    "                 ctxs=None, max_n=6, **kwargs):  \n",
    "    \n",
    "    res = L([ (sample[0], sample[1], pred[0].replace(hf_tokenizer.pad_token, '')[:generated_max_len]) \n",
    "             for sample, pred in zip(samples, outs) ])          \n",
    "    \n",
    "    display_df(pd.DataFrame(res, columns=['text', 'target', 'prediction'])[:max_n])\n",
    "    return ctxs"
   ]
  },
  {
   "cell_type": "code",
   "execution_count": null,
   "metadata": {},
   "outputs": [
    {
     "data": {
      "text/html": [],
      "text/plain": [
       "<IPython.core.display.HTML object>"
      ]
     },
     "metadata": {},
     "output_type": "display_data"
    },
    {
     "data": {
      "text/html": [
       "<table border=\"1\" class=\"dataframe\">\n",
       "  <thead>\n",
       "    <tr style=\"text-align: right;\">\n",
       "      <th></th>\n",
       "      <th>text</th>\n",
       "      <th>target</th>\n",
       "      <th>prediction</th>\n",
       "    </tr>\n",
       "  </thead>\n",
       "  <tbody>\n",
       "    <tr>\n",
       "      <th>0</th>\n",
       "      <td>(CNN) -- As violence again roils Iraq, the United Nations reported more than 65,000 people had fled conflict areas in the past week. The Office of the United Nations High Commissioner for Refugees said in a report that those Iraqis fled from the cities of Falluja and Ramadi in Iraq's central Anbar province. More than 140,000 people have been made homeless since new fighting broke out at the end of 2013, according to Iraq's Ministry of Displacement and Migration. It is the largest displacement in Iraq since the sectarian violence of 2006-2008. That figure adds to the 1.13 million people already internally displaced and mostly residing in Baghdad, Diyala and Ninewa provinces. Adrian Edwards, spokesman for the refugee agency, told reporters in Geneva that its staff and other people in Anbar had reported many civilians were unable to leave conflict-affected areas where food and fuel were in short supply. \"Most of the recently displaced remain outside Falluja city, accommodated by relatives or staying in schools, mosques and hospitals where resources are running low,\" he said. \"Host families are having difficulties sustaining the burden of caring for the displaced.\" More violence was recorded on Friday. Seven people were killed and nine others were hurt in separate incidents when Iraqi Army mortars landed in residential areas in Falluja, health officials there told CNN.</td>\n",
       "      <td>More than 65,000 have fled Falluja and Ramadi in past week.\\nThis is on top of more than 1.1 million internally displaced persons.\\nMore violence was recorded in Iraq Friday with seven reported killed.</td>\n",
       "      <td>The. 65,000 people fled conflictuja and Ramadi in the week. More. is the top of the than 140.13 million people displaced people..</td>\n",
       "    </tr>\n",
       "    <tr>\n",
       "      <th>1</th>\n",
       "      <td>(CNN)The same superbug that contributed to two deaths in Los Angeles has been reported in North Carolina, where one person has died, a spokesman told CNN. Eighteen people have contracted carbapenem-resistant Enterobacteriaceae, or CRE, so far this year, said Kevin McCarthy, spokesman with the Carolinas HealthCare System. Of those, 15 had CRE upon admission to the hospital in Charlotte; three acquired it in the hospital, and one died, the spokesman said. The cause of death was not immediately clear. McCarthy declined to provide details on any of the patients. It was also not clear how any of them became infected. In Los Angeles, seven patients contracted CRE after routine endoscopic procedures. Two of them died, the Ronald Reagan UCLA Medical Center said last week. CRE was a contributing factor in the deaths, but the exact cause of the deaths wasn't immediately disclosed in those cases either. Hospital officials there have said the outbreak was caused by two medical scopes that still carried the deadly bacteria even though disinfection guidelines were followed. The UCLA hospital was using a duodenoscope made by Olympus, but the Food and Drug Administration is also reviewing data from the two other U.S. companies that make the devices, Fujifilm and Pentax. The medical center is contacting 179 others who underwent endoscopic procedures between October and January. It's offering them home tests to screen for the bacteria. In a statement, McCarthy said Carolinas HealthCare System uses standard methods for disinfecting its equipment, saying that all duodenoscopes that have been tested have shown to be negative for CRE. Some CRE bacteria can resist most antibiotics, the Centers for Disease Control and Prevention says on its website. CNN's Ben Tinker, Michael Martinez and Steve Almasy contributed to this report.</td>\n",
       "      <td>Eighteen people have contracted CRE so far this year at a hospital in Charlotte, North Carolina.\\nCRE is highly resistant to many forms of antibiotic treatments, the CDC says.</td>\n",
       "      <td>. people have contracted carb in far this year. Carol North in Charlotte, North Carolina.. contributed a resistant to most antibio</td>\n",
       "    </tr>\n",
       "  </tbody>\n",
       "</table>"
      ],
      "text/plain": [
       "<IPython.core.display.HTML object>"
      ]
     },
     "metadata": {},
     "output_type": "display_data"
    }
   ],
   "source": [
    "learn.show_results(hf_tokenizer=hf_tokenizer, max_n=2)"
   ]
  },
  {
   "cell_type": "markdown",
   "metadata": {},
   "source": [
    "The predictions of our `show_results` are the greedy predicted values from the model. `Learner.predict` will follow the same approach.\n",
    "\n",
    "Below we'll look at how we can use huggingface's `PreTrainedModel.generate` method to create something more reasonable."
   ]
  },
  {
   "cell_type": "code",
   "execution_count": null,
   "metadata": {},
   "outputs": [],
   "source": [
    "test_article = \"\"\"\n",
    "About 10 men armed with pistols and small machine guns raided a casino in Switzerland and made off \n",
    "into France with several hundred thousand Swiss francs in the early hours of Sunday morning, police said. \n",
    "The men, dressed in black clothes and black ski masks, split into two groups during the raid on the Grand Casino \n",
    "Basel, Chief Inspector Peter Gill told CNN. One group tried to break into the casino's vault on the lower level \n",
    "but could not get in, but they did rob the cashier of the money that was not secured, he said. The second group \n",
    "of armed robbers entered the upper level where the roulette and blackjack tables are located and robbed the \n",
    "cashier there, he said. As the thieves were leaving the casino, a woman driving by and unaware of what was \n",
    "occurring unknowingly blocked the armed robbers' vehicles. A gunman pulled the woman from her vehicle, beat \n",
    "her, and took off for the French border. The other gunmen followed into France, which is only about 100 \n",
    "meters (yards) from the casino, Gill said. There were about 600 people in the casino at the time of the robbery. \n",
    "There were no serious injuries, although one guest on the Casino floor was kicked in the head by one of the \n",
    "robbers when he moved, the police officer said. Swiss authorities are working closely with French authorities, \n",
    "Gill said. The robbers spoke French and drove vehicles with French license plates. CNN's Andreena Narayan \n",
    "contributed to this report.\n",
    "\"\"\""
   ]
  },
  {
   "cell_type": "code",
   "execution_count": null,
   "metadata": {},
   "outputs": [
    {
     "data": {
      "text/html": [],
      "text/plain": [
       "<IPython.core.display.HTML object>"
      ]
     },
     "metadata": {},
     "output_type": "display_data"
    },
    {
     "name": "stdout",
     "output_type": "stream",
     "text": [
      "re 10 men armed with pistols and small machine guns raided a casino in Switzerland. made off. intointo France. several hundred thousand Swiss francs. \n"
     ]
    }
   ],
   "source": [
    "res = learn.blurr_predict(test_article)\n",
    "print(res[0][:150])"
   ]
  },
  {
   "cell_type": "markdown",
   "metadata": {},
   "source": [
    "That doesn't look much like a human-generated summary.  Let's use huggingface's `PreTrainedModel.generate` method to create something more human-like."
   ]
  },
  {
   "cell_type": "code",
   "execution_count": null,
   "metadata": {},
   "outputs": [
    {
     "name": "stdout",
     "output_type": "stream",
     "text": [
      "=== Target ===\n",
      " Tamar Jacoby: Congress weighing highway bill that provides transportation funds .\n",
      "She says 1956 debate that created interestate system should give Congress a clue .\n",
      "She says battle was fierce, like health care bill today; Congress made deal for public good .\n",
      "Jacoby: Truckers, drivers accepted a tax; Congress should learn from this .\n",
      "\n",
      "=== Prediction ===\n",
      "Julian Zelizer: Congress is struggling to move a few must-pass pieces of legislation. He says the 1956 debate that created the interstate highway system was an epic Washington battle. He asks: Did it ever work better? If it did, what was different? What ingredients have been lost, and can we recapture them?\n"
     ]
    }
   ],
   "source": [
    "test_input_ids = dls.train_ds[0][0]['input_ids'].unsqueeze(0).to(learn.model.hf_model.device)\n",
    "gen_text = learn.model.hf_model.generate(test_input_ids, num_beams=4, max_length=130, min_length=30)\n",
    "\n",
    "print('=== Target ===')\n",
    "print(f'{hf_tokenizer.decode(dls.train_ds[0][1][\"input_ids\"], skip_special_tokens=True, clean_up_tokenization_spaces=False)}\\n')\n",
    "\n",
    "print('=== Prediction ===')\n",
    "print(hf_tokenizer.decode(gen_text[0], skip_special_tokens=True, clean_up_tokenization_spaces=False))"
   ]
  },
  {
   "cell_type": "markdown",
   "metadata": {},
   "source": [
    "We'll add a `generate_text` method to `Learner` that uses huggingface's `PreTrainedModel.generate` to create our predictions.  \n",
    "\n",
    "For the full list of arguments you can pass in see [here](https://huggingface.co/transformers/main_classes/model.html#transformers.PreTrainedModel.generate). You can also check out their [\"How To Generate\"](https://github.com/huggingface/blog/blob/master/notebooks/02_how_to_generate.ipynb) notebook for more information about how it all works."
   ]
  },
  {
   "cell_type": "code",
   "execution_count": null,
   "metadata": {},
   "outputs": [],
   "source": [
    "#export\n",
    "@patch\n",
    "def generate_text(self:Learner, inp, max_length=130, min_length=30, **kwargs):\n",
    "    \"\"\"Uses the built-in `generate` method to generate the text \n",
    "    (see [here](https://huggingface.co/transformers/main_classes/model.html#transformers.PreTrainedModel.generate)\n",
    "    for a list of arguments you can pass in)\n",
    "    \"\"\"\n",
    "    # grab the huggingface tokenizer from the learner's dls.tfms\n",
    "    hf_textblock_tfm = self.dls.tfms[0]\n",
    "    hf_tokenizer = hf_textblock_tfm.hf_tokenizer\n",
    "    tok_kwargs = hf_textblock_tfm.tok_kwargs\n",
    "\n",
    "    input_ids = hf_tokenizer.encode(inp, padding=True, truncation=True, return_tensors='pt', **tok_kwargs)\n",
    "    input_ids = input_ids.to(self.model.hf_model.device)\n",
    "    \n",
    "    gen_text = self.model.hf_model.generate(input_ids, max_length=max_length, min_length=min_length, **kwargs)\n",
    "    \n",
    "    outputs = [ hf_tokenizer.decode(txt, skip_special_tokens=True, clean_up_tokenization_spaces=False) \n",
    "               for txt in gen_text ]\n",
    "    \n",
    "    return outputs"
   ]
  },
  {
   "cell_type": "code",
   "execution_count": null,
   "metadata": {},
   "outputs": [
    {
     "data": {
      "text/markdown": [
       "<h4 id=\"Learner.generate_text\" class=\"doc_header\"><code>Learner.generate_text</code><a href=\"__main__.py#L2\" class=\"source_link\" style=\"float:right\">[source]</a></h4>\n",
       "\n",
       "> <code>Learner.generate_text</code>(**`inp`**, **`max_length`**=*`130`*, **`min_length`**=*`30`*, **\\*\\*`kwargs`**)\n",
       "\n",
       "Uses the built-in `generate` method to generate the text \n",
       "(see [here](https://huggingface.co/transformers/main_classes/model.html#transformers.PreTrainedModel.generate)\n",
       "for a list of arguments you can pass in)"
      ],
      "text/plain": [
       "<IPython.core.display.Markdown object>"
      ]
     },
     "metadata": {},
     "output_type": "display_data"
    }
   ],
   "source": [
    "show_doc(Learner.generate_text)"
   ]
  },
  {
   "cell_type": "code",
   "execution_count": null,
   "metadata": {},
   "outputs": [
    {
     "name": "stdout",
     "output_type": "stream",
     "text": [
      "=== Prediction 1 ===\n",
      "About 10 men armed with pistols and small machine guns raided a casino in Switzerland. They made off with several hundred thousand Swiss francs in the early hours of Sunday morning. A woman driving by unknowingly blocked the armed robbers' vehicles.\n",
      "\n",
      "=== Prediction 2 ===\n",
      "About 10 men armed with pistols and small machine guns raided a casino in Switzerland. They made off with several hundred thousand Swiss francs in the early hours of Sunday morning. The robbers spoke French and drove vehicles with French license plates.\n",
      "\n",
      "=== Prediction 3 ===\n",
      "About 10 men armed with pistols and small machine guns raided a casino in Switzerland. They made off with several hundred thousand Swiss francs in the early hours of Sunday morning. The robbers spoke French and drove vehicles with French license plates, police said.\n",
      "\n"
     ]
    }
   ],
   "source": [
    "outputs = learn.generate_text(test_article, early_stopping=True, num_beams=4, num_return_sequences=3)\n",
    "\n",
    "for idx, o in enumerate(outputs):\n",
    "    print(f'=== Prediction {idx+1} ===\\n{o}\\n')"
   ]
  },
  {
   "cell_type": "markdown",
   "metadata": {},
   "source": [
    "Much nicer!!! What about inference?"
   ]
  },
  {
   "cell_type": "code",
   "execution_count": null,
   "metadata": {},
   "outputs": [],
   "source": [
    "learn.export(fname='text_gen_learn_export.pkl')"
   ]
  },
  {
   "cell_type": "code",
   "execution_count": null,
   "metadata": {},
   "outputs": [
    {
     "data": {
      "text/plain": [
       "[\"About 10 men armed with pistols and small machine guns raided a casino in Switzerland. They made off with several hundred thousand Swiss francs in the early hours of Sunday morning. A woman driving by unknowingly blocked the armed robbers' vehicles.\"]"
      ]
     },
     "execution_count": null,
     "metadata": {},
     "output_type": "execute_result"
    }
   ],
   "source": [
    "inf_learn = load_learner(fname='text_gen_learn_export.pkl')\n",
    "inf_learn.generate_text(test_article)"
   ]
  },
  {
   "cell_type": "markdown",
   "metadata": {},
   "source": [
    "## Cleanup"
   ]
  },
  {
   "cell_type": "code",
   "execution_count": null,
   "metadata": {},
   "outputs": [
    {
     "name": "stdout",
     "output_type": "stream",
     "text": [
      "Converted 00_utils.ipynb.\n",
      "Converted 01_data-core.ipynb.\n",
      "Converted 01a_data-language-modeling.ipynb.\n",
      "Converted 01c_data-question-answering.ipynb.\n",
      "Converted 01d_data-token-classification.ipynb.\n",
      "Converted 01e_data-text-generation.ipynb.\n",
      "Converted 02_modeling-core.ipynb.\n",
      "Converted 02_training-summarization.ipynb.\n",
      "Converted 02a_modeling-language-modeling.ipynb.\n",
      "Converted 02c_modeling-question-answering.ipynb.\n",
      "Converted 02d_modeling-token-classification.ipynb.\n",
      "Converted 02e_modeling-text-generation.ipynb.\n",
      "Converted index.ipynb.\n"
     ]
    }
   ],
   "source": [
    "#hide\n",
    "from nbdev.export import notebook2script\n",
    "notebook2script()"
   ]
  },
  {
   "cell_type": "code",
   "execution_count": null,
   "metadata": {},
   "outputs": [],
   "source": []
  }
 ],
 "metadata": {
  "kernelspec": {
   "display_name": "Python 3",
   "language": "python",
   "name": "python3"
  }
 },
 "nbformat": 4,
 "nbformat_minor": 4
}
