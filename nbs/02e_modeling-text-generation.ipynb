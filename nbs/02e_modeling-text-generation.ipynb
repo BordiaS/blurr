{
 "cells": [
  {
   "cell_type": "code",
   "execution_count": null,
   "metadata": {},
   "outputs": [],
   "source": [
    "# default_exp modeling.text_generation"
   ]
  },
  {
   "cell_type": "code",
   "execution_count": null,
   "metadata": {},
   "outputs": [],
   "source": [
    "#hide\n",
    "%reload_ext autoreload\n",
    "%autoreload 2\n",
    "%matplotlib inline"
   ]
  },
  {
   "cell_type": "markdown",
   "metadata": {},
   "source": [
    "# modeling.text_generation\n",
    "\n",
    "> This module contains custom models, loss functions, custom splitters, etc... for token classification tasks like summarization."
   ]
  },
  {
   "cell_type": "code",
   "execution_count": null,
   "metadata": {},
   "outputs": [],
   "source": [
    "#export\n",
    "import ast, torch\n",
    "from transformers import *\n",
    "from fastai2.text.all import *\n",
    "\n",
    "from rouge_score import rouge_scorer, scoring\n",
    "\n",
    "from blurr.data.all import *\n",
    "from blurr.modeling.core import *"
   ]
  },
  {
   "cell_type": "code",
   "execution_count": null,
   "metadata": {},
   "outputs": [],
   "source": [
    "#hide\n",
    "import pdb\n",
    "\n",
    "from nbdev.showdoc import *\n",
    "from fastcore.test import *"
   ]
  },
  {
   "cell_type": "code",
   "execution_count": null,
   "metadata": {},
   "outputs": [
    {
     "name": "stdout",
     "output_type": "stream",
     "text": [
      "Using GPU #1: GeForce GTX 1080 Ti\n"
     ]
    }
   ],
   "source": [
    "#cuda\n",
    "torch.cuda.set_device(1)\n",
    "print(f'Using GPU #{torch.cuda.current_device()}: {torch.cuda.get_device_name()}')"
   ]
  },
  {
   "cell_type": "markdown",
   "metadata": {},
   "source": [
    "## Text generation\n",
    "\n",
    "The objective of text generation is to create reasonable textual responses given a prior piece of input.  For example, we may want to summarize an article in a single sentence or have a chatbot provide a sensible response to a question."
   ]
  },
  {
   "cell_type": "code",
   "execution_count": null,
   "metadata": {},
   "outputs": [
    {
     "data": {
      "text/plain": [
       "1000"
      ]
     },
     "execution_count": null,
     "metadata": {},
     "output_type": "execute_result"
    }
   ],
   "source": [
    "path = Path('./')\n",
    "cnndm_df = pd.read_csv(path/'cnndm_sample.csv'); len(cnndm_df)"
   ]
  },
  {
   "cell_type": "code",
   "execution_count": null,
   "metadata": {},
   "outputs": [
    {
     "data": {
      "text/html": [
       "<div>\n",
       "<style scoped>\n",
       "    .dataframe tbody tr th:only-of-type {\n",
       "        vertical-align: middle;\n",
       "    }\n",
       "\n",
       "    .dataframe tbody tr th {\n",
       "        vertical-align: top;\n",
       "    }\n",
       "\n",
       "    .dataframe thead th {\n",
       "        text-align: right;\n",
       "    }\n",
       "</style>\n",
       "<table border=\"1\" class=\"dataframe\">\n",
       "  <thead>\n",
       "    <tr style=\"text-align: right;\">\n",
       "      <th></th>\n",
       "      <th>article</th>\n",
       "      <th>highlights</th>\n",
       "      <th>ds_type</th>\n",
       "    </tr>\n",
       "  </thead>\n",
       "  <tbody>\n",
       "    <tr>\n",
       "      <th>0</th>\n",
       "      <td>(CNN)  -- Globalization washes like a flood over the world's cultures and economies. Floods can be destructive; however, they can also bring blessings, as the annual floods of the Nile did for ancient Egypt. The world's great universities can be crucial instruments in shaping, in a positive way, humankind's reaction to globalization and the development of humankind itself. Traditionally, universities have been defined and limited by location, creating an academic community and drawing students and scholars to that place. Eventually, some universities began to encourage students to study el...</td>\n",
       "      <td>John Sexton: Traditionally, universities have been defined and limited by location .\\nGlobal campuses form a network of thought, innovation, he writes .\\nFaculty can teach, Sexton says, students can team up in many cities at once .\\nSexton: Research, scholarship can be shared and cultural ties made in \"century of knowledge\"</td>\n",
       "      <td>train</td>\n",
       "    </tr>\n",
       "    <tr>\n",
       "      <th>1</th>\n",
       "      <td>(CNN) -- Armenian President Robert Kocharian declared a state of emergency Saturday night after a day of clashes between police and protesters, a spokeswoman for the Armenian Foreign Ministry said. Opposition supporters wave an Armenian flag during a protest rally in Yerevan, Armenia, on Saturday. The protesters claim last month's presidential election was rigged. The state of emergency will \"hopefully bring some order\" to the capital, Yerevan, said Salpi Ghazarian, assistant to the Armenian foreign minister, who spoke to CNN early Sunday. The state of emergency could last until March 20, ...</td>\n",
       "      <td>NEW: Protest moves after crackdown at Freedom Square .\\nOrder sought after protests over last month's election turn violent .\\nDemonstrators say the election was fraudulent .\\nState of emergency could last until March 20, official says .</td>\n",
       "      <td>train</td>\n",
       "    </tr>\n",
       "  </tbody>\n",
       "</table>\n",
       "</div>"
      ],
      "text/plain": [
       "                                                                                                                                                                                                                                                                                                                                                                                                                                                                                                                                                                                                                   article  \\\n",
       "0  (CNN)  -- Globalization washes like a flood over the world's cultures and economies. Floods can be destructive; however, they can also bring blessings, as the annual floods of the Nile did for ancient Egypt. The world's great universities can be crucial instruments in shaping, in a positive way, humankind's reaction to globalization and the development of humankind itself. Traditionally, universities have been defined and limited by location, creating an academic community and drawing students and scholars to that place. Eventually, some universities began to encourage students to study el...   \n",
       "1  (CNN) -- Armenian President Robert Kocharian declared a state of emergency Saturday night after a day of clashes between police and protesters, a spokeswoman for the Armenian Foreign Ministry said. Opposition supporters wave an Armenian flag during a protest rally in Yerevan, Armenia, on Saturday. The protesters claim last month's presidential election was rigged. The state of emergency will \"hopefully bring some order\" to the capital, Yerevan, said Salpi Ghazarian, assistant to the Armenian foreign minister, who spoke to CNN early Sunday. The state of emergency could last until March 20, ...   \n",
       "\n",
       "                                                                                                                                                                                                                                                                                                                              highlights  \\\n",
       "0  John Sexton: Traditionally, universities have been defined and limited by location .\\nGlobal campuses form a network of thought, innovation, he writes .\\nFaculty can teach, Sexton says, students can team up in many cities at once .\\nSexton: Research, scholarship can be shared and cultural ties made in \"century of knowledge\"   \n",
       "1                                                                                          NEW: Protest moves after crackdown at Freedom Square .\\nOrder sought after protests over last month's election turn violent .\\nDemonstrators say the election was fraudulent .\\nState of emergency could last until March 20, official says .   \n",
       "\n",
       "  ds_type  \n",
       "0   train  \n",
       "1   train  "
      ]
     },
     "execution_count": null,
     "metadata": {},
     "output_type": "execute_result"
    }
   ],
   "source": [
    "cnndm_df.head(2)"
   ]
  },
  {
   "cell_type": "code",
   "execution_count": null,
   "metadata": {},
   "outputs": [
    {
     "name": "stderr",
     "output_type": "stream",
     "text": [
      "Some weights of BartForConditionalGeneration were not initialized from the model checkpoint at facebook/bart-large-cnn and are newly initialized: ['final_logits_bias']\n",
      "You should probably TRAIN this model on a down-stream task to be able to use it for predictions and inference.\n"
     ]
    },
    {
     "data": {
      "text/plain": [
       "('bart',\n",
       " transformers.configuration_bart.BartConfig,\n",
       " transformers.tokenization_bart.BartTokenizer,\n",
       " transformers.modeling_bart.BartForConditionalGeneration)"
      ]
     },
     "execution_count": null,
     "metadata": {},
     "output_type": "execute_result"
    }
   ],
   "source": [
    "pretrained_model_name = \"facebook/bart-large-cnn\"\n",
    "hf_arch, hf_config, hf_tokenizer, hf_model = BLURR_MODEL_HELPER.get_hf_objects(pretrained_model_name, \n",
    "                                                                               model_cls=BartForConditionalGeneration)\n",
    "\n",
    "hf_arch, type(hf_config), type(hf_tokenizer), type(hf_model)"
   ]
  },
  {
   "cell_type": "code",
   "execution_count": null,
   "metadata": {},
   "outputs": [],
   "source": [
    "hf_batch_tfm = HF_TextGenerationBatchTransform(hf_arch, hf_tokenizer)\n",
    "\n",
    "blocks = ( \n",
    "    HF_TextBlock(hf_arch, hf_tokenizer), \n",
    "    HF_TextBlock(hf_arch, hf_tokenizer, hf_batch_tfm=hf_batch_tfm, max_length=150)\n",
    ")\n",
    "\n",
    "dblock = DataBlock(blocks=blocks, \n",
    "                   get_x=ColReader('article'), \n",
    "                   get_y=ColReader('highlights'), \n",
    "                   splitter=RandomSplitter())"
   ]
  },
  {
   "cell_type": "code",
   "execution_count": null,
   "metadata": {},
   "outputs": [],
   "source": [
    "dls = dblock.dataloaders(cnndm_df, bs=4)"
   ]
  },
  {
   "cell_type": "code",
   "execution_count": null,
   "metadata": {},
   "outputs": [],
   "source": [
    "b = dls.one_batch()"
   ]
  },
  {
   "cell_type": "code",
   "execution_count": null,
   "metadata": {},
   "outputs": [
    {
     "data": {
      "text/plain": [
       "(2, torch.Size([4, 512]), torch.Size([4, 150]))"
      ]
     },
     "execution_count": null,
     "metadata": {},
     "output_type": "execute_result"
    }
   ],
   "source": [
    "len(b), b[0]['input_ids'].shape, b[1].shape"
   ]
  },
  {
   "cell_type": "code",
   "execution_count": null,
   "metadata": {},
   "outputs": [
    {
     "data": {
      "text/html": [
       "<table border=\"1\" class=\"dataframe\">\n",
       "  <thead>\n",
       "    <tr style=\"text-align: right;\">\n",
       "      <th></th>\n",
       "      <th>text</th>\n",
       "      <th>target</th>\n",
       "    </tr>\n",
       "  </thead>\n",
       "  <tbody>\n",
       "    <tr>\n",
       "      <th>0</th>\n",
       "      <td>(Rolling Stone) -- Rock stars and merchandising extraordinaires KISS have joined forces with Fox's animated hit \"Family Guy\" for a co-branded product line that will hit stores in fall, according to the Hollywood Reporter. Fox will develop the products with KISS' licensing agent, Live Nation Merchandise, and will look for partners to make everything from bobblehead dolls to apparel to fine art. For a band that has licensed their image to everything from lunch boxes to pinball machines, KISS' new partnership makes total sense. According to singer-guitarist Paul Stanley, the deal comes as KISS \"are focusing more and more on the upper-tier, blue-chip opportunities for prestige partnerships. \"Family Guy's\" track record and consistent success with its demographic makes this match-up ideal.\" KISS are no strangers to \"Family Guy,\" having already made three cameos on the program. They have even become part of a running storyline that involves a previous relationship between Lois Griffin and KISS bassist/ladies' man Gene Simmons. \"KISS and 'Family Guy' coming together for a line of products is a great mash-up of two iconic brands that speaks directly to fans who will be able to enjoy something a little different and special with what we have in store,\" said Jeffrey Godsick, president of Fox Consumer Products. The joint licensing venture is the first in the company's new series, which will encompass other notable \"Family Guy\" guests in the future. KISS are in for a busy summer, cartoon merch aside; they will hit the road alongside fellow metal deities MÃ¶tley Crue for a 40-date North American trek, simply dubbed \"The Tour.\" Copyright © 2011 Rolling Stone.</td>\n",
       "      <td>Rock stars KISS have joined forces with animated hit \"Family Guy\"\\nFox will develop the products with Live Nation Merchandise.\\nKISS has previously made three cameos on the show.</td>\n",
       "    </tr>\n",
       "    <tr>\n",
       "      <th>1</th>\n",
       "      <td>(CNN) -- The 30-mile stretch between Biloxi and Bay St. Louis, Mississippi, is still dotted with battle wounds from Hurricane Katrina seven years later. Concrete slabs and steps that lead to nothing but trash and overgrown weeds are all that is left of historic brick homes. But amid the slabs are majestic homes with grand, sweeping porches and perfectly manicured lawns. The owners of these homes are as tough and resilient as only survivors of one of the deadliest storms in history could be. State-by-state: Isaac evacuations, delays. Lifelong Bay St. Louis resident Corky Hadden lives on the spot of his childhood home, set off the water where the bay feeds into the Gulf of Mexico. While he and his family evacuated to safety inland, Katrina's ravaging storm surge swept the house right off its stilts, leaving only the foundation intact. \"We had some old columns that the old house stood on, and those columns were picked clean, there was nothing left on them,\" he said. Determined, Hadden rebuilt where his boyhood home once stood, both stronger and higher. \"I've got poured concrete pillars filled with steel, 10 times more steel than before,\" he said. \"We're now 24 feet above sea level, 11 feet from the ground.\" Isaac could bring in a 12-foot storm surge, which would mean Hadden's first floor could take on some water. \"We don't have anything important below that 24-foot elevation,\" he said. Live blog: Isaac moves in. Air conditioning units and electric boxes are strategically placed on the house's second floor, safely away from most critical dangers. Outside, the air is full of Isaac's portents. The normally calming sounds of the surf are dimmed by hurricane flags clanging loudly against an old converted ship mast in Hadden's front yard. The blazing red flags with the signature black squares in the center stand out in stark contrast to the temporarily blue sky. Hadden and his neighbors are wary but calm. \"I think everybody has come back in a much stronger fashion,\" he said. \"We're watching, but we're prepared.\" Riding eastward toward Gulfport along white sand beaches with sparkling blue waters, beautiful antebellum-style homes grace the coastline. The stately green manse where Ben and Nancy Stone live right off the beach is a new construction, a near replica of the 1800s-era house that was obliterated by Katrina. iReport: Share your images</td>\n",
       "      <td>Biloxi and Bay St. Louis stretch still shows signs of Hurricane Katrina.\\nThose who stayed have rebuilt with storms in mind.\\nNow they're preparing for Isaac and other inevitable storms.</td>\n",
       "    </tr>\n",
       "  </tbody>\n",
       "</table>"
      ],
      "text/plain": [
       "<IPython.core.display.HTML object>"
      ]
     },
     "metadata": {},
     "output_type": "display_data"
    }
   ],
   "source": [
    "dls.show_batch(hf_tokenizer=hf_tokenizer, max_n=2)"
   ]
  },
  {
   "cell_type": "markdown",
   "metadata": {},
   "source": [
    "### Metrics\n",
    "\n",
    "In this section, we'll add helpful metrics for text generation tasks"
   ]
  },
  {
   "cell_type": "code",
   "execution_count": null,
   "metadata": {},
   "outputs": [],
   "source": [
    "#export\n",
    "def calculate_rouge(predicted_txts, reference_txts, rouge_keys=[\"rouge1\", \"rouge2\", \"rougeL\"], use_stemmer=True):\n",
    "    scorer = rouge_scorer.RougeScorer(rouge_keys, use_stemmer=use_stemmer)\n",
    "    aggregator = scoring.BootstrapAggregator()\n",
    "\n",
    "    for ref_text, pred_txt in zip(reference_txts, predicted_txts):\n",
    "        scores = scorer.score(ref_text, pred_txt)\n",
    "        aggregator.add_scores(scores)\n",
    "\n",
    "    result = aggregator.aggregate()\n",
    "    return result"
   ]
  },
  {
   "cell_type": "markdown",
   "metadata": {},
   "source": [
    "### Training\n",
    "\n",
    "Here we create a text generation specific subclass of `HF_BaseModelCallback` in order to include custom, text generation specific, metrics, and also handle the pre-calculated loss during training"
   ]
  },
  {
   "cell_type": "code",
   "execution_count": null,
   "metadata": {},
   "outputs": [],
   "source": [
    "#export\n",
    "class HF_TextGenModelCallback(HF_BaseModelCallback):  \n",
    "    def __init__(self, rouge_metrics=[\"rouge1\", \"rouge2\", \"rougeL\"], text_gen_kwargs={}, **kwargs):\n",
    "        self.run_before = Recorder\n",
    "        \n",
    "        store_attr(self, 'rouge_metrics, text_gen_kwargs, kwargs')\n",
    "        self.custom_metrics_dict = { k:None for k in rouge_metrics }\n",
    "        \n",
    "        self.do_setup = True\n",
    "        \n",
    "    def setup(self):\n",
    "        # one time setup code here.\n",
    "        if (not self.do_setup): return\n",
    "        \n",
    "        # grab the hf_tokenizer from the target's HF_TokenizerTransform (used for rouge metrics)\n",
    "        hf_textblock_tfm = self.learn.dls.tfms[-1]\n",
    "        self.hf_tokenizer = hf_textblock_tfm.hf_tokenizer\n",
    "        self.tok_kwargs = hf_textblock_tfm.kwargs\n",
    "        \n",
    "        # add custom text generation specific metrics\n",
    "        custom_metric_keys = self.custom_metrics_dict.keys()\n",
    "        custom_metrics = L([ ValueMetric(partial(self.metric_value, metric_key=k), k) for k in custom_metric_keys ])\n",
    "        self.learn.metrics = self.learn.metrics + custom_metrics\n",
    "        \n",
    "        self.do_setup = False\n",
    "        \n",
    "    def begin_fit(self): self.setup()\n",
    "        \n",
    "        \n",
    "    # --- batch begin/after phases ---\n",
    "    def begin_batch(self): self.hf_loss = None\n",
    "        \n",
    "    def after_pred(self): \n",
    "        # the \"labels\" key will only be included in the input dictionary *IF* we are training with target labels, \n",
    "        # in which case the first output of the model will be the loss\n",
    "        if ('labels' in self.xb[0]):\n",
    "            self.hf_loss, self.learn.pred = self.pred[0], self.pred[1]\n",
    "        else:\n",
    "            self.learn.pred = self.pred[0]\n",
    "            \n",
    "    def after_loss(self): \n",
    "        # if we already have the loss from the model, update the Learner's loss to be it\n",
    "        if (self.hf_loss is not None): self.learn.loss = self.hf_loss\n",
    "        \n",
    "    def after_batch(self):\n",
    "        if (self.training or self.learn.y is None): return\n",
    "        \n",
    "        # grab predicted and reference ids for any metrics that need them\n",
    "        input_ids, attention_mask = self.xb[0]['input_ids'], self.xb[0]['attention_mask']\n",
    "        gen_ids = self.learn.model.hf_model.generate(input_ids=input_ids, \n",
    "                                                     attention_mask=attention_mask, \n",
    "                                                     use_cache=True,\n",
    "                                                     **self.text_gen_kwargs)\n",
    "        \n",
    "        self.generated_ids += gen_ids.tolist()\n",
    "        self.refernce_ids += self.yb[0].tolist()\n",
    "        \n",
    "        \n",
    "    # --- validation begin/after phases ---\n",
    "    def begin_validate(self): self.generated_ids, self.refernce_ids = [], []\n",
    "        \n",
    "    def after_validate(self):\n",
    "        # are there rouge metrics to calculate?\n",
    "        if (self.rouge_metrics is not None and len(self.rouge_metrics) > 0):\n",
    "            gen_texts = self.hf_tokenizer.batch_decode(self.generated_ids, \n",
    "                                                       skip_special_tokens=True, \n",
    "                                                       clean_up_tokenization_spaces=True)\n",
    "\n",
    "            ref_texts = self.hf_tokenizer.batch_decode(self.refernce_ids, \n",
    "                                                       skip_special_tokens=True, \n",
    "                                                       clean_up_tokenization_spaces=True)\n",
    "\n",
    "            rouge_results = calculate_rouge(gen_texts, ref_texts, rouge_keys=self.rouge_metrics)\n",
    "            \n",
    "            for rouge_key, scores in rouge_results.items(): \n",
    "                self.custom_metrics_dict[rouge_key] = scores.mid.fmeasure\n",
    "                \n",
    "\n",
    "    # --- for ValueMetric metrics ---\n",
    "    def metric_value(self, metric_key): return self.custom_metrics_dict[metric_key]"
   ]
  },
  {
   "cell_type": "markdown",
   "metadata": {},
   "source": [
    "We add a custom param splitter to give us a bit more depth in applying discriminative learning rates for text generation."
   ]
  },
  {
   "cell_type": "code",
   "execution_count": null,
   "metadata": {},
   "outputs": [],
   "source": [
    "#export\n",
    "def text_gen_splitter(m, arch):\n",
    "    \"\"\"Custom param splitter for text generation models\"\"\"\n",
    "    model = m.hf_model if (hasattr(m, 'hf_model')) else m\n",
    "    \n",
    "    if (arch == 'bart'):     \n",
    "        embeds = nn.Sequential(\n",
    "            model.model.shared, \n",
    "            model.model.encoder.embed_positions, \n",
    "            model.model.encoder.embed_tokens,\n",
    "            model.model.decoder.embed_positions, \n",
    "            model.model.decoder.embed_tokens\n",
    "        )\n",
    "        \n",
    "        groups = L(embeds, model.model.encoder, model.model.decoder)\n",
    "        return groups.map(params).filter(lambda el: len(el) > 0)\n",
    "    \n",
    "    raise ValueError('Invalid architecture')"
   ]
  },
  {
   "cell_type": "code",
   "execution_count": null,
   "metadata": {},
   "outputs": [
    {
     "data": {
      "text/markdown": [
       "<h4 id=\"text_gen_splitter\" class=\"doc_header\"><code>text_gen_splitter</code><a href=\"__main__.py#L2\" class=\"source_link\" style=\"float:right\">[source]</a></h4>\n",
       "\n",
       "> <code>text_gen_splitter</code>(**`m`**, **`arch`**)\n",
       "\n",
       "Custom param splitter for text generation models"
      ],
      "text/plain": [
       "<IPython.core.display.Markdown object>"
      ]
     },
     "metadata": {},
     "output_type": "display_data"
    }
   ],
   "source": [
    "show_doc(text_gen_splitter)"
   ]
  },
  {
   "cell_type": "markdown",
   "metadata": {},
   "source": [
    "Even though we don't really need a loss function, we have to provide a custom loss class/function for fastai to function properly (e.g. one with a `decodes` and `activation` methods).  Why?  Because these methods will get called in methods like `show_results` to get the actual predictions."
   ]
  },
  {
   "cell_type": "code",
   "execution_count": null,
   "metadata": {},
   "outputs": [],
   "source": [
    "#export\n",
    "class HF_MaskedLMLoss():\n",
    "    def __call__(self, inp, targ, **kwargs): return\n",
    "    def decodes(self, x): return x.argmax(dim=-1)\n",
    "    def activation(self, x): return F.softmax(x, dim=-1)"
   ]
  },
  {
   "cell_type": "code",
   "execution_count": null,
   "metadata": {},
   "outputs": [
    {
     "data": {
      "text/plain": [
       "{'early_stopping': True,\n",
       " 'length_penalty': 2.0,\n",
       " 'max_length': 130,\n",
       " 'min_length': 30,\n",
       " 'no_repeat_ngram_size': 3,\n",
       " 'num_beams': 4}"
      ]
     },
     "execution_count": null,
     "metadata": {},
     "output_type": "execute_result"
    }
   ],
   "source": [
    "text_gen_kwargs = { **hf_config.task_specific_params['summarization'], **{'max_length': 130, 'min_length': 30} }\n",
    "text_gen_kwargs"
   ]
  },
  {
   "cell_type": "code",
   "execution_count": null,
   "metadata": {},
   "outputs": [],
   "source": [
    "model = HF_BaseModelWrapper(hf_model)\n",
    "model_cb = HF_TextGenModelCallback(text_gen_kwargs=text_gen_kwargs)\n",
    "\n",
    "learn = Learner(dls, \n",
    "                model,\n",
    "                opt_func=ranger,\n",
    "                loss_func=HF_MaskedLMLoss(),\n",
    "                cbs=[model_cb],\n",
    "                splitter=partial(text_gen_splitter, arch=hf_arch))#.to_fp16()\n",
    "\n",
    "learn.create_opt() \n",
    "learn.freeze()"
   ]
  },
  {
   "cell_type": "code",
   "execution_count": null,
   "metadata": {},
   "outputs": [],
   "source": [
    "# learn.blurr_summary()"
   ]
  },
  {
   "cell_type": "code",
   "execution_count": null,
   "metadata": {},
   "outputs": [
    {
     "data": {
      "text/plain": [
       "(3,\n",
       " tensor(3.9434, device='cuda:1', grad_fn=<NllLossBackward>),\n",
       " torch.Size([4, 149, 50264]))"
      ]
     },
     "execution_count": null,
     "metadata": {},
     "output_type": "execute_result"
    }
   ],
   "source": [
    "b = dls.one_batch()\n",
    "preds = learn.model(b[0])\n",
    "len(preds),preds[0], preds[1].shape"
   ]
  },
  {
   "cell_type": "code",
   "execution_count": null,
   "metadata": {},
   "outputs": [
    {
     "data": {
      "text/plain": [
       "(2, 4, torch.Size([4, 512]), 4, torch.Size([4, 150]))"
      ]
     },
     "execution_count": null,
     "metadata": {},
     "output_type": "execute_result"
    }
   ],
   "source": [
    "len(b), len(b[0]), b[0]['input_ids'].shape, len(b[1]), b[1].shape"
   ]
  },
  {
   "cell_type": "code",
   "execution_count": null,
   "metadata": {},
   "outputs": [
    {
     "name": "stdout",
     "output_type": "stream",
     "text": [
      "3\n"
     ]
    }
   ],
   "source": [
    "print(len(learn.opt.param_groups))"
   ]
  },
  {
   "cell_type": "code",
   "execution_count": null,
   "metadata": {},
   "outputs": [
    {
     "data": {
      "text/html": [],
      "text/plain": [
       "<IPython.core.display.HTML object>"
      ]
     },
     "metadata": {},
     "output_type": "display_data"
    },
    {
     "data": {
      "text/plain": [
       "SuggestedLRs(lr_min=0.0003019951749593019, lr_steep=1.3182567499825382e-06)"
      ]
     },
     "execution_count": null,
     "metadata": {},
     "output_type": "execute_result"
    },
    {
     "data": {
      "image/png": "[encoded data removed]",
      "text/plain": [
       "<Figure size 432x288 with 1 Axes>"
      ]
     },
     "metadata": {
      "needs_background": "light"
     },
     "output_type": "display_data"
    }
   ],
   "source": [
    "#slow\n",
    "learn.lr_find(suggestions=True)"
   ]
  },
  {
   "cell_type": "code",
   "execution_count": null,
   "metadata": {},
   "outputs": [
    {
     "data": {
      "text/html": [
       "<table border=\"1\" class=\"dataframe\">\n",
       "  <thead>\n",
       "    <tr style=\"text-align: left;\">\n",
       "      <th>epoch</th>\n",
       "      <th>train_loss</th>\n",
       "      <th>valid_loss</th>\n",
       "      <th>rouge1</th>\n",
       "      <th>rouge2</th>\n",
       "      <th>rougeL</th>\n",
       "      <th>time</th>\n",
       "    </tr>\n",
       "  </thead>\n",
       "  <tbody>\n",
       "    <tr>\n",
       "      <td>0</td>\n",
       "      <td>1.721621</td>\n",
       "      <td>1.527860</td>\n",
       "      <td>0.384725</td>\n",
       "      <td>0.168396</td>\n",
       "      <td>0.262084</td>\n",
       "      <td>03:12</td>\n",
       "    </tr>\n",
       "    <tr>\n",
       "      <td>1</td>\n",
       "      <td>1.333363</td>\n",
       "      <td>1.497855</td>\n",
       "      <td>0.385938</td>\n",
       "      <td>0.170224</td>\n",
       "      <td>0.258025</td>\n",
       "      <td>03:10</td>\n",
       "    </tr>\n",
       "    <tr>\n",
       "      <td>2</td>\n",
       "      <td>1.245215</td>\n",
       "      <td>1.500337</td>\n",
       "      <td>0.385228</td>\n",
       "      <td>0.168803</td>\n",
       "      <td>0.258873</td>\n",
       "      <td>03:14</td>\n",
       "    </tr>\n",
       "  </tbody>\n",
       "</table>"
      ],
      "text/plain": [
       "<IPython.core.display.HTML object>"
      ]
     },
     "metadata": {},
     "output_type": "display_data"
    }
   ],
   "source": [
    "#slow\n",
    "learn.fit_one_cycle(3, lr_max=3e-5)"
   ]
  },
  {
   "cell_type": "markdown",
   "metadata": {},
   "source": [
    "### Showing results\n",
    "\n",
    "Below we'll add in additional functionality to take advantage of huggingface's `PreTrainedModel.generate` model, which can be used to easily implement beam search, top-k/nucleous sampling, etc... so that we get more human sounding results."
   ]
  },
  {
   "cell_type": "code",
   "execution_count": null,
   "metadata": {},
   "outputs": [],
   "source": [
    "test_article = \"\"\"\n",
    "About 10 men armed with pistols and small machine guns raided a casino in Switzerland and made off \n",
    "into France with several hundred thousand Swiss francs in the early hours of Sunday morning, police said. \n",
    "The men, dressed in black clothes and black ski masks, split into two groups during the raid on the Grand Casino \n",
    "Basel, Chief Inspector Peter Gill told CNN. One group tried to break into the casino's vault on the lower level \n",
    "but could not get in, but they did rob the cashier of the money that was not secured, he said. The second group \n",
    "of armed robbers entered the upper level where the roulette and blackjack tables are located and robbed the \n",
    "cashier there, he said. As the thieves were leaving the casino, a woman driving by and unaware of what was \n",
    "occurring unknowingly blocked the armed robbers' vehicles. A gunman pulled the woman from her vehicle, beat \n",
    "her, and took off for the French border. The other gunmen followed into France, which is only about 100 \n",
    "meters (yards) from the casino, Gill said. There were about 600 people in the casino at the time of the robbery. \n",
    "There were no serious injuries, although one guest on the Casino floor was kicked in the head by one of the \n",
    "robbers when he moved, the police officer said. Swiss authorities are working closely with French authorities, \n",
    "Gill said. The robbers spoke French and drove vehicles with French license plates. CNN's Andreena Narayan \n",
    "contributed to this report.\n",
    "\"\"\""
   ]
  },
  {
   "cell_type": "code",
   "execution_count": null,
   "metadata": {},
   "outputs": [
    {
     "data": {
      "text/html": [],
      "text/plain": [
       "<IPython.core.display.HTML object>"
      ]
     },
     "metadata": {},
     "output_type": "display_data"
    },
    {
     "name": "stdout",
     "output_type": "stream",
     "text": [
      " 10 10About 10 men a\n"
     ]
    }
   ],
   "source": [
    "res = learn.blurr_predict(test_article)\n",
    "print(res[0][:20])"
   ]
  },
  {
   "cell_type": "markdown",
   "metadata": {},
   "source": [
    "That doesn't look much like a human-generated summary.  Let's use huggingface's `PreTrainedModel.generate` method to create something more human-like."
   ]
  },
  {
   "cell_type": "code",
   "execution_count": null,
   "metadata": {},
   "outputs": [
    {
     "name": "stdout",
     "output_type": "stream",
     "text": [
      "=== Target ===\n",
      " Rock stars KISS have joined forces with animated hit \"Family Guy\"\n",
      "Fox will develop the products with Live Nation Merchandise .\n",
      "KISS has previously made three cameos on the show .\n",
      "\n",
      "=== Prediction ===\n",
      " KISS have joined forces with Fox's animated hit \"Family Guy\" for a co-branded product line .\n",
      "Fox will develop the products with KISS' licensing agent, Live Nation Merchandise .\n",
      "The line will include bobblehead dolls, apparel and fine art .\n",
      "KISS have already made three cameos on the program .\n"
     ]
    }
   ],
   "source": [
    "test_input_ids = dls.train_ds[0][0]['input_ids'].unsqueeze(0).to(learn.model.hf_model.device)\n",
    "gen_text = learn.model.hf_model.generate(test_input_ids, num_beams=4, max_length=130, min_length=30)\n",
    "\n",
    "print('=== Target ===')\n",
    "print(f'{hf_tokenizer.decode(dls.train_ds[0][1][\"input_ids\"], skip_special_tokens=True, clean_up_tokenization_spaces=False)}\\n')\n",
    "\n",
    "print('=== Prediction ===')\n",
    "print(hf_tokenizer.decode(gen_text[0], skip_special_tokens=True, clean_up_tokenization_spaces=False))"
   ]
  },
  {
   "cell_type": "markdown",
   "metadata": {},
   "source": [
    "We'll add a `generate_text` method to `Learner` that uses huggingface's `PreTrainedModel.generate` to create our predictions.  For the full list of arguments you can pass in see [here](https://huggingface.co/transformers/main_classes/model.html#transformers.PreTrainedModel.generate). You can also check out their [\"How To Generate\"](https://github.com/huggingface/blog/blob/master/notebooks/02_how_to_generate.ipynb) notebook for more information about how it all works."
   ]
  },
  {
   "cell_type": "code",
   "execution_count": null,
   "metadata": {},
   "outputs": [],
   "source": [
    "#export\n",
    "@patch\n",
    "def generate_text(self:Learner, inp, **kwargs):\n",
    "    \"\"\"Uses the built-in `generate` method to generate the text \n",
    "    (see [here](https://huggingface.co/transformers/main_classes/model.html#transformers.PreTrainedModel.generate)\n",
    "    for a list of arguments you can pass in)\n",
    "    \"\"\"\n",
    "    # grab the text generation kwargs\n",
    "    text_gen_kwargs = self.cbs.filter(lambda el: isinstance(el, HF_TextGenModelCallback) )[0].text_gen_kwargs\n",
    "    text_gen_kwargs = { **text_gen_kwargs, **kwargs}\n",
    "    \n",
    "    # grab the huggingface tokenizer from the learner's dls.tfms\n",
    "    hf_textblock_tfm = self.dls.tfms[0]\n",
    "    hf_tokenizer = hf_textblock_tfm.hf_tokenizer\n",
    "    tok_kwargs = hf_textblock_tfm.kwargs\n",
    "\n",
    "    if (isinstance(inp, str)):\n",
    "        input_ids = hf_tokenizer.encode(inp, padding=True, truncation=True, return_tensors='pt', **tok_kwargs)\n",
    "    else:\n",
    "        input_ids = inp\n",
    "        \n",
    "    input_ids = input_ids.to(self.model.hf_model.device)\n",
    "    \n",
    "    gen_texts = self.model.hf_model.generate(input_ids, **text_gen_kwargs)\n",
    "    outputs = [ hf_tokenizer.decode(txt, skip_special_tokens=True, clean_up_tokenization_spaces=False) \n",
    "               for txt in gen_texts ]\n",
    "    \n",
    "    return outputs"
   ]
  },
  {
   "cell_type": "code",
   "execution_count": null,
   "metadata": {},
   "outputs": [
    {
     "data": {
      "text/markdown": [
       "<h4 id=\"Learner.generate_text\" class=\"doc_header\"><code>Learner.generate_text</code><a href=\"__main__.py#L2\" class=\"source_link\" style=\"float:right\">[source]</a></h4>\n",
       "\n",
       "> <code>Learner.generate_text</code>(**`inp`**, **\\*\\*`kwargs`**)\n",
       "\n",
       "Uses the built-in `generate` method to generate the text \n",
       "(see [here](https://huggingface.co/transformers/main_classes/model.html#transformers.PreTrainedModel.generate)\n",
       "for a list of arguments you can pass in)"
      ],
      "text/plain": [
       "<IPython.core.display.Markdown object>"
      ]
     },
     "metadata": {},
     "output_type": "display_data"
    }
   ],
   "source": [
    "show_doc(Learner.generate_text)"
   ]
  },
  {
   "cell_type": "code",
   "execution_count": null,
   "metadata": {},
   "outputs": [
    {
     "name": "stdout",
     "output_type": "stream",
     "text": [
      "=== Prediction 1 ===\n",
      " The robbers made off with several hundred thousand Swiss francs in the early hours of Sunday morning, police say .\n",
      "The men, dressed in black clothes and black ski masks, split into two groups during the raid on the Grand Casino Basel .\n",
      "One group tried to break into the casino's vault on the lower level but could not get in .\n",
      "A second group robbed the upper level where the roulette and blackjack tables are located and robbed the cashier there .\n",
      "\n",
      "=== Prediction 2 ===\n",
      " The robbers made off with several hundred thousand Swiss francs in the early hours of Sunday morning, police say .\n",
      "The men, dressed in black clothes and black ski masks, split into two groups during the raid on the Grand Casino Basel .\n",
      "One group tried to break into the casino's vault on the lower level but could not get in .\n",
      "A second group robbed the upper level where the roulette and blackjack tables are located .\n",
      "\n",
      "=== Prediction 3 ===\n",
      " The robbers made off with several hundred thousand Swiss francs in the early hours of Sunday morning, police say .\n",
      "The men, dressed in black clothes and black ski masks, split into two groups during the raid on the Grand Casino Basel .\n",
      "One group tried to break into the casino's vault on the lower level but could not get in .\n",
      "They robbed the cashier of the money that was not secured, he says .\n",
      "\n"
     ]
    }
   ],
   "source": [
    "outputs = learn.generate_text(test_article, num_return_sequences=3)\n",
    "\n",
    "for idx, o in enumerate(outputs):\n",
    "    print(f'=== Prediction {idx+1} ===\\n{o}\\n')"
   ]
  },
  {
   "cell_type": "markdown",
   "metadata": {},
   "source": [
    "Much nicer!!! Now, we can update our @typedispatched `show_results` to use this new method."
   ]
  },
  {
   "cell_type": "code",
   "execution_count": null,
   "metadata": {},
   "outputs": [],
   "source": [
    "#export\n",
    "@typedispatch\n",
    "def show_results(x:HF_TextGenerationInput, y, samples, outs, learner, ctxs=None, max_n=6, **kwargs):  \n",
    "    gen_text_txts = learn.generate_text(x[0])\n",
    "    res = L([ (sample[0], sample[1], gen_txt) for sample, gen_txt in zip(samples, gen_text_txts) ])          \n",
    "    \n",
    "    display_df(pd.DataFrame(res, columns=['text', 'target', 'prediction'])[:max_n])\n",
    "    return ctxs"
   ]
  },
  {
   "cell_type": "code",
   "execution_count": null,
   "metadata": {},
   "outputs": [
    {
     "data": {
      "text/html": [],
      "text/plain": [
       "<IPython.core.display.HTML object>"
      ]
     },
     "metadata": {},
     "output_type": "display_data"
    },
    {
     "data": {
      "text/html": [
       "<table border=\"1\" class=\"dataframe\">\n",
       "  <thead>\n",
       "    <tr style=\"text-align: right;\">\n",
       "      <th></th>\n",
       "      <th>text</th>\n",
       "      <th>target</th>\n",
       "      <th>prediction</th>\n",
       "    </tr>\n",
       "  </thead>\n",
       "  <tbody>\n",
       "    <tr>\n",
       "      <th>0</th>\n",
       "      <td>(CNN) -- It's been six years -- 2007, if you're into counting numbers -- since the once sleepy fishing port of Macau surpassed Las Vegas as the world leader in gambling revenue. We love the flash. And the occasional winning night at the tables. But there's a slower side to this city of just less than 600,000 residents, one of cobblestone lanes, colonial mansions, art deco buildings and tranquil parks, all done in a fusion of Chinese and Portuguese motifs. The best part is that Macau (just an hour from Hong Kong by ferry) is compact, making it a breeze to explore. Here's a primer. 1. Baccarat is the game of choice. Macau is the gambling capital of the world. By far the most popular game is baccarat, a relatively simple game with a low house advantage (less than 1%). Baccarat tables dominate the city's 33 casinos. There are plenty of slot machines as well, but they offer a high house advantage and aren't popular. This is the reverse of Las Vegas where gamblers favor slots. Macau's revenue from gambling is $33 billion, more than five times that of the Las Vegas Strip. Tycoon Stanley Ho's 40-year reign as the city's casino kingpin came to an end in 2002 when the Macau government ended the monopoly system. Today, there are six casino operators: SJM Holdings (Stanley Ho), Wynn Macau, Sands China, Galaxy Entertainment Group, MGM China Holdings and Melco Crown Entertainment. 2. Macau was the first and last European colony in China. The Portuguese settled in Macau in the 16th century and the island was handed back to China in 1999. Today, Macau is a Special Administrative Region (SAR) -- as is Hong Kong -- and is governed under the \"one country, two systems\" principal, which was the brainchild of late paramount leader Deng Xiaoping. Although no longer a colony, Portuguese is still an official language and the Portuguese influence can be seen everywhere from blue tiled street signs to tiled floors and beautiful gardens. More: Top-notch hotel under $100: Macau's best boutique stay. 3. It's the world's most densely populated place. Macau has the world's highest population density with 20,497 people per square kilometer. No surprise then that it needed to do something dramatic to make room for new casinos and 30 million visitors that come every year. The solution was a massive</td>\n",
       "      <td>It's the gambling capital of the world, but there are plenty of ways to spend your winnings or forget about your losings.\\nMacanese cuisine combines Chinese and Portuguese styles.\\nMacau is the world's most densely populated place.\\nResidents have one of the world's highest life expectancy rates.</td>\n",
       "      <td>Macau surpassed Las Vegas as the world leader in gambling revenue in 2007 .\\nBaccarat tables dominate the city's 33 casinos .\\nIt's the world's most densely populated place with 20,497 people per square kilometer .\\nMacau is governed under the \"one country, two systems\" principal .</td>\n",
       "    </tr>\n",
       "    <tr>\n",
       "      <th>1</th>\n",
       "      <td>(AOL Autos) -- The conventional wisdom, among most folks, anyway, is that buying a used car is usually something done out of necessity, by those on a budget -- that is, people who want, or need, to \"move down\" from the new-car market because a new model is simply out of their reach. Bottom line, the Lexus reputation is for high-end luxury, quality and long-term dependability. However, there is another category of used cars that appeal to those with a bit more disposable income: used luxury cars. For some buyers, the used-luxury market is a way of getting into that Lexus, Lincoln, Infiniti or Porsche you always wanted, without laying out $70,000 or $80,000 for something you're not actually going to live in. For others, scouring the used-luxury-car listings is a way of re-visiting the halcyon years of their youth. At this point, some of these used-luxe models have been around so long that they almost qualify as vintage throwback editions. Recently, Consumer Reports magazine issued its list of best and worst used cars, and divvied them up by price range. Using CR's recommendations as a guideline, here is a list of some of the best used luxury cars currently on the market in the $24,000-30,000 price range. 2005 &amp; 2006 Acura MDX. A luxury SUV, the MDX is spacious, seats seven, and boasts distinctive styling and Acura's famed attention to detail. Plus, it packs some punch under the hood -- this generation was powered by 3.5-liter, 253-hp V6 matched to a five-speed automatic transmission. AOL Autos: Used Acura. Priced just right as a new vehicle, it included safety features like dual-stage front airbags, three-point seatbelts and adjustable head restraints for all seating positions. 2007 Acura RDX. A crossover vehicle that mixes sedan-like ride with SUV roominess, the '07 RDX offered unibody construction, leather upholstery, heated front seats, power moonroof, 18-inch alloy wheels with all-season tires, xenon HID headlights with foglamps and the 2.3-liter turbocharged four-cylinder engine -- plus a five-speed automatic transmission with paddle shifters on the steering wheel, and the patented SH-AWD (SH for Super Handling)</td>\n",
       "      <td>Some buyers go to used-car market to get the luxury car they always wanted.\\nConsumer Reports magazine issues its list of best and worst used cars.\\nInfiniti G35 is one of the more svelte sports-sedan beauties on the road.\\n1998 Porsche 911 made the list of cars for under $30,000.</td>\n",
       "      <td>Acura MDX is spacious, seats seven, and boasts distinctive styling and Acura's famed attention to detail .\\n2007 Acura RDX offered unibody construction, leather upholstery, heated front seats, power moonroof .\\nConsumer Reports magazine issued its list of best and worst used cars, and divvied them up by price range .\\nLexus reputation is for high-end luxury, quality and long-term dependability .</td>\n",
       "    </tr>\n",
       "    <tr>\n",
       "      <th>2</th>\n",
       "      <td>Former teen idol David Cassidy must spend the next five years on probation after pleading no contest to a drunken driving charge in Los Angeles on Monday. A judge also ordered Cassidy, 63, to spend 90 days in alcohol rehab, but since he's been in a residential program since his arrest in January he will be able to check out soon and resume his entertainment career, his manager said,. In fact, the former \"Partridge Family\" singer has gigs booked starting in North Carolina next month. Cassidy was arrested after a California Highway Patrol officer stopped him for making an illegal turn at a red light near the Los Angeles International Airport in January. The singer-actor blew.19 -- twice the legal level -- on an alcohol test administered by the officer who stopped his rented Chevrolet Impala, according to a California Highway Patrol statement. It was his second DUI arrest in six months and third since 2011. 'Partridge Family' dispute led to Cassidy drinking relapse. His manager told CNN several days after his latest arrest that Cassidy's drinking was the result of stressful questioning he had just undergone by lawyers about a legal dispute regarding \"Partridge Family\" profits. \"David just completed a stint in rehab and was doing very well in sobriety,\" manager Jo-Ann Geffen said. \"He was in Los Angeles to attend depositions by Sony Pictures Television, respondents in a lawsuit filed by Cassidy in 2011 over what he claims are monies long due him from 'Partridge Family' merchandise, home video, etc.,\" she said. \"After attending his and his manager's depositions, it appears as if the pressure led to a brief relapse.\" On the TV series, Cassidy played the eldest of five children of a widowed mother (Shirley Jones, who was then Cassidy's real-life stepmother). The family, all musicians, traveled to gigs in a brightly repainted school bus. When the show was canceled after four seasons, Cassidy launched his own pop music career, filling concert halls with screaming teenage girls attracted to such hits as \"I Think I Love You.\" Photos: Celebrity substance abuse confessions.</td>\n",
       "      <td>David Cassidy expects to resume his entertainment career next month.\\nCassidy has been arrested three times on DUI charges in past three years.\\nCassidy had just left rehab when he was stopped for drunken driving.\\nHis manager blames stress over a \"Partridge Family\" dispute.</td>\n",
       "      <td>Former teen idol David Cassidy pleads no contest to a drunken driving charge .\\nHe must spend five years on probation and spend 90 days in alcohol rehab .\\nA judge also orders him to spend no more than a year on supervised probation .\\nIt was his second DUI arrest in six months and third since 2011 .\\nCassidy's manager says the stress of a legal dispute over \"Partridge Family\" profits led to a relapse .\\nThe 63-year-old has gigs booked in North Carolina next month .</td>\n",
       "    </tr>\n",
       "    <tr>\n",
       "      <th>3</th>\n",
       "      <td>(CNN) -- Hundreds of South African troops are headed to the embattled Central African Republic, where they will work alongside members of that nation's military who are trying to quash a rebellion. South African President Jacob Zuma on Sunday announced the deployment of 400 troops \"to render support in fulfillment of an international obligation of the Republic of South Africa towards the CAR.\" Read more: Diplomats seek progress on Central African Republic crisis. Despite fits and starts in the peace process, the insurgency in the Central African Republic remains an active and real threat to the government of President Francois Bozize. On Saturday, rebels attacked two more towns -- having already seized several others, as well as threatening to head to the capital of Bangui -- according to a government official. Zuma's directive does not indicate South African troops will fight rebels directly. Rather, the statement says they \"will assist with capacity building of the CAR Defense Force and will also assist CAR with the planning and implementation of the disarmament, demobilization and reintegration processes.\" Read more: Central African Republic president seeks help against rebels. \"The employment of members of (South Africa's military) to CAR is one of the efforts that South Africa is making to bring about peace and stability in the region,\" said the South African statement, which was released through government spokesman Mac Maharaj. The crisis started in December, when the Seleka rebel coalition accused Bozize of reneging on a peace deal and demanded he step down. They seized towns in the northern part of the landlocked country and threatened to march on Bangui. Bozize has called on the international community, including the United States and France, to help stave off the rebellion. The foreign ministers from the Economic Community of Central African States will meet Tuesday in Gabon's capital, Libreville, to set an agency for peace talks, said Placide Ibouanga Ndinga, a spokesman for the group. By Thursday, the talks were expected to include the Seleka, opposition party officials, private sector representatives, U.N. officials and Bozize, according to Ndinga. Read more: Rebels assault 2 towns in Central African Republic. Still, some in the Central African Republic questioned the utility of such talks, if they occur as rebels continue to wage attacks. \"How can there be peace if the rebels are looting, raping and abducting our civilians?\" said Jules Gauthier Ngbapo, a spokesman for Josue Binoua, minister of</td>\n",
       "      <td>South Africa's president orders the deployment of 400 troops to the Central African Republic.\\nThe directive says the South African troops help build up the central African nation's military.\\nRebels began fighting last month, claiming CAR's president reneged on a peace deal.\\nPresident Bozize has called for international help, and peace talks are set for next week.</td>\n",
       "      <td>Hundreds of South African troops are headed to the Central African Republic .\\nThey will work alongside members of that nation's military who are trying to quash a rebellion .\\nThe crisis started in December, when the Seleka rebel coalition accused President Francois Bozize of reneging on a peace deal .\\nRebels seized towns in the northern part of the landlocked country and threatened to march on Bangui .\\nBozize has called on the international community to help stave off the rebellion .</td>\n",
       "    </tr>\n",
       "  </tbody>\n",
       "</table>"
      ],
      "text/plain": [
       "<IPython.core.display.HTML object>"
      ]
     },
     "metadata": {},
     "output_type": "display_data"
    }
   ],
   "source": [
    "learn.show_results(learner=learn)"
   ]
  },
  {
   "cell_type": "markdown",
   "metadata": {},
   "source": [
    "### Inference"
   ]
  },
  {
   "cell_type": "code",
   "execution_count": null,
   "metadata": {},
   "outputs": [],
   "source": [
    "learn.export(fname='text_gen_learn_export.pkl')"
   ]
  },
  {
   "cell_type": "code",
   "execution_count": null,
   "metadata": {},
   "outputs": [
    {
     "data": {
      "text/plain": [
       "[\" The robbers made off with several hundred thousand Swiss francs in the early hours of Sunday morning, police say .\\nThe men, dressed in black clothes and black ski masks, split into two groups during the raid on the Grand Casino Basel .\\nOne group tried to break into the casino's vault on the lower level but could not get in .\\nA second group robbed the upper level where the roulette and blackjack tables are located and robbed the cashier there .\"]"
      ]
     },
     "execution_count": null,
     "metadata": {},
     "output_type": "execute_result"
    }
   ],
   "source": [
    "inf_learn = load_learner(fname='text_gen_learn_export.pkl')\n",
    "inf_learn.generate_text(test_article)"
   ]
  },
  {
   "cell_type": "markdown",
   "metadata": {},
   "source": [
    "## Cleanup"
   ]
  },
  {
   "cell_type": "code",
   "execution_count": null,
   "metadata": {},
   "outputs": [
    {
     "name": "stdout",
     "output_type": "stream",
     "text": [
      "Converted 00_utils.ipynb.\n",
      "Converted 01_data-core.ipynb.\n",
      "Converted 01a_data-language-modeling.ipynb.\n",
      "Converted 01c_data-question-answering.ipynb.\n",
      "Converted 01d_data-token-classification.ipynb.\n",
      "Converted 01e_data-text-generation.ipynb.\n",
      "Converted 02_modeling-core.ipynb.\n",
      "Converted 02a_modeling-language-modeling.ipynb.\n",
      "Converted 02c_modeling-question-answering.ipynb.\n",
      "Converted 02d_modeling-token-classification.ipynb.\n",
      "Converted 02e_modeling-text-generation.ipynb.\n",
      "Converted index.ipynb.\n"
     ]
    }
   ],
   "source": [
    "#hide\n",
    "from nbdev.export import notebook2script\n",
    "notebook2script()"
   ]
  },
  {
   "cell_type": "code",
   "execution_count": null,
   "metadata": {},
   "outputs": [],
   "source": []
  }
 ],
 "metadata": {
  "kernelspec": {
   "display_name": "Python 3",
   "language": "python",
   "name": "python3"
  }
 },
 "nbformat": 4,
 "nbformat_minor": 4
}
